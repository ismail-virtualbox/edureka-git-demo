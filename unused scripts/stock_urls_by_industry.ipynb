{
 "cells": [
  {
   "cell_type": "code",
   "execution_count": 1,
   "metadata": {},
   "outputs": [],
   "source": [
    "from bs4 import BeautifulSoup"
   ]
  },
  {
   "cell_type": "code",
   "execution_count": 2,
   "metadata": {},
   "outputs": [],
   "source": [
    "import requests"
   ]
  },
  {
   "cell_type": "code",
   "execution_count": 3,
   "metadata": {},
   "outputs": [],
   "source": [
    "html_text_industries  = requests.get(\"https://www.dsebd.org/by_industrylisting.php\").text"
   ]
  },
  {
   "cell_type": "code",
   "execution_count": 4,
   "metadata": {},
   "outputs": [],
   "source": [
    "soup = BeautifulSoup(html_text_industries, 'lxml')"
   ]
  },
  {
   "cell_type": "code",
   "execution_count": 5,
   "metadata": {},
   "outputs": [
    {
     "data": {
      "text/plain": [
       "32"
      ]
     },
     "execution_count": 5,
     "metadata": {},
     "output_type": "execute_result"
    }
   ],
   "source": [
    "soup.__sizeof__()"
   ]
  },
  {
   "cell_type": "code",
   "execution_count": 6,
   "metadata": {},
   "outputs": [],
   "source": [
    "industries_table = soup.find('table', class_= 'table table-bordered background-white')"
   ]
  },
  {
   "cell_type": "code",
   "execution_count": 7,
   "metadata": {},
   "outputs": [],
   "source": [
    "industries = industries_table.find_all('tr')"
   ]
  },
  {
   "cell_type": "code",
   "execution_count": 8,
   "metadata": {},
   "outputs": [],
   "source": [
    "industry_url_dict = {}"
   ]
  },
  {
   "cell_type": "code",
   "execution_count": 9,
   "metadata": {},
   "outputs": [],
   "source": [
    "i = 0\n",
    "for industry in industries:\n",
    "    if 0 < i < 22:\n",
    "        industry_url_dict[f'{industry.a.text}'] = 'https://www.dsebd.org/' + industry.a['href']\n",
    "    i += 1"
   ]
  },
  {
   "cell_type": "code",
   "execution_count": 10,
   "metadata": {},
   "outputs": [],
   "source": [
    "industry_url_dict[f'{industries[1].a.text}'] = 'https://www.dsebd.org/' + industries[1].a['href']"
   ]
  },
  {
   "cell_type": "code",
   "execution_count": 11,
   "metadata": {},
   "outputs": [
    {
     "data": {
      "text/plain": [
       "[('Bank', 'https://www.dsebd.org/companylistbyindustry.php?industryno=11'),\n",
       " ('Cement', 'https://www.dsebd.org/companylistbyindustry.php?industryno=21'),\n",
       " ('Ceramics Sector',\n",
       "  'https://www.dsebd.org/companylistbyindustry.php?industryno=24'),\n",
       " ('Corporate Bond',\n",
       "  'https://www.dsebd.org/companylistbyindustry.php?industryno=26'),\n",
       " ('Debenture',\n",
       "  'https://www.dsebd.org/companylistbyindustry.php?industryno=91'),\n",
       " ('Engineering',\n",
       "  'https://www.dsebd.org/companylistbyindustry.php?industryno=13'),\n",
       " ('Financial Institutions',\n",
       "  'https://www.dsebd.org/companylistbyindustry.php?industryno=28'),\n",
       " ('Food & Allied',\n",
       "  'https://www.dsebd.org/companylistbyindustry.php?industryno=14'),\n",
       " ('Fuel & Power',\n",
       "  'https://www.dsebd.org/companylistbyindustry.php?industryno=15'),\n",
       " ('IT Sector',\n",
       "  'https://www.dsebd.org/companylistbyindustry.php?industryno=22'),\n",
       " ('Insurance',\n",
       "  'https://www.dsebd.org/companylistbyindustry.php?industryno=25'),\n",
       " ('Jute', 'https://www.dsebd.org/companylistbyindustry.php?industryno=16'),\n",
       " ('Miscellaneous',\n",
       "  'https://www.dsebd.org/companylistbyindustry.php?industryno=99'),\n",
       " ('Mutual Funds',\n",
       "  'https://www.dsebd.org/companylistbyindustry.php?industryno=12'),\n",
       " ('Paper & Printing',\n",
       "  'https://www.dsebd.org/companylistbyindustry.php?industryno=19'),\n",
       " ('Pharmaceuticals & Chemicals',\n",
       "  'https://www.dsebd.org/companylistbyindustry.php?industryno=18'),\n",
       " ('Services & Real Estate',\n",
       "  'https://www.dsebd.org/companylistbyindustry.php?industryno=20'),\n",
       " ('Tannery Industries',\n",
       "  'https://www.dsebd.org/companylistbyindustry.php?industryno=23'),\n",
       " ('Telecommunication',\n",
       "  'https://www.dsebd.org/companylistbyindustry.php?industryno=27'),\n",
       " ('Textile', 'https://www.dsebd.org/companylistbyindustry.php?industryno=17'),\n",
       " ('Travel & Leisure',\n",
       "  'https://www.dsebd.org/companylistbyindustry.php?industryno=29')]"
      ]
     },
     "execution_count": 11,
     "metadata": {},
     "output_type": "execute_result"
    }
   ],
   "source": [
    "sorted(industry_url_dict.items())"
   ]
  },
  {
   "cell_type": "code",
   "execution_count": 12,
   "metadata": {},
   "outputs": [],
   "source": [
    "html_text_industry = requests.get(industry_url_dict['Bank']).text"
   ]
  },
  {
   "cell_type": "code",
   "execution_count": 13,
   "metadata": {},
   "outputs": [],
   "source": [
    "soup_industry = BeautifulSoup(html_text_industry, 'lxml')"
   ]
  },
  {
   "cell_type": "code",
   "execution_count": 14,
   "metadata": {},
   "outputs": [],
   "source": [
    "industry = soup_industry.find('table', class_= 'table table-borderless background-white')"
   ]
  },
  {
   "cell_type": "code",
   "execution_count": 15,
   "metadata": {},
   "outputs": [
    {
     "data": {
      "text/plain": [
       "[<a class=\"ab1\" href=\"displayCompany.php?name=ABBANK\">ABBANK</a>,\n",
       " <a class=\"ab1\" href=\"displayCompany.php?name=ALARABANK\">ALARABANK</a>,\n",
       " <a class=\"ab1\" href=\"displayCompany.php?name=BANKASIA\">BANKASIA</a>,\n",
       " <a class=\"ab1\" href=\"displayCompany.php?name=BRACBANK\">BRACBANK</a>,\n",
       " <a class=\"ab1\" href=\"displayCompany.php?name=CITYBANK\">CITYBANK</a>,\n",
       " <a class=\"ab1\" href=\"displayCompany.php?name=DHAKABANK\">DHAKABANK</a>,\n",
       " <a class=\"ab1\" href=\"displayCompany.php?name=DUTCHBANGL\">DUTCHBANGL</a>,\n",
       " <a class=\"ab1\" href=\"displayCompany.php?name=EBL\">EBL</a>,\n",
       " <a class=\"ab1\" href=\"displayCompany.php?name=EXIMBANK\">EXIMBANK</a>,\n",
       " <a class=\"ab1\" href=\"displayCompany.php?name=FIRSTSBANK\">FIRSTSBANK</a>,\n",
       " <a class=\"ab1\" href=\"displayCompany.php?name=ICBIBANK\">ICBIBANK</a>,\n",
       " <a class=\"ab1\" href=\"displayCompany.php?name=IFIC\">IFIC</a>,\n",
       " <a class=\"ab1\" href=\"displayCompany.php?name=ISLAMIBANK\">ISLAMIBANK</a>,\n",
       " <a class=\"ab1\" href=\"displayCompany.php?name=JAMUNABANK\">JAMUNABANK</a>,\n",
       " <a class=\"ab1\" href=\"displayCompany.php?name=MERCANBANK\">MERCANBANK</a>,\n",
       " <a class=\"ab1\" href=\"displayCompany.php?name=MTB\">MTB</a>,\n",
       " <a class=\"ab1\" href=\"displayCompany.php?name=NBL\">NBL</a>,\n",
       " <a class=\"ab1\" href=\"displayCompany.php?name=NCCBANK\">NCCBANK</a>,\n",
       " <a class=\"ab1\" href=\"displayCompany.php?name=NRBCBANK\">NRBCBANK</a>,\n",
       " <a class=\"ab1\" href=\"displayCompany.php?name=ONEBANKLTD\">ONEBANKLTD</a>,\n",
       " <a class=\"ab1\" href=\"displayCompany.php?name=PREMIERBAN\">PREMIERBAN</a>,\n",
       " <a class=\"ab1\" href=\"displayCompany.php?name=PRIMEBANK\">PRIMEBANK</a>,\n",
       " <a class=\"ab1\" href=\"displayCompany.php?name=PUBALIBANK\">PUBALIBANK</a>,\n",
       " <a class=\"ab1\" href=\"displayCompany.php?name=RUPALIBANK\">RUPALIBANK</a>,\n",
       " <a class=\"ab1\" href=\"displayCompany.php?name=SBACBANK\">SBACBANK</a>,\n",
       " <a class=\"ab1\" href=\"displayCompany.php?name=SHAHJABANK\">SHAHJABANK</a>,\n",
       " <a class=\"ab1\" href=\"displayCompany.php?name=SIBL\">SIBL</a>,\n",
       " <a class=\"ab1\" href=\"displayCompany.php?name=SOUTHEASTB\">SOUTHEASTB</a>,\n",
       " <a class=\"ab1\" href=\"displayCompany.php?name=STANDBANKL\">STANDBANKL</a>,\n",
       " <a class=\"ab1\" href=\"displayCompany.php?name=TRUSTBANK\">TRUSTBANK</a>,\n",
       " <a class=\"ab1\" href=\"displayCompany.php?name=UCB\">UCB</a>,\n",
       " <a class=\"ab1\" href=\"displayCompany.php?name=UTTARABANK\">UTTARABANK</a>]"
      ]
     },
     "execution_count": 15,
     "metadata": {},
     "output_type": "execute_result"
    }
   ],
   "source": [
    "industry.find_all('a')"
   ]
  },
  {
   "cell_type": "code",
   "execution_count": 16,
   "metadata": {},
   "outputs": [
    {
     "data": {
      "text/plain": [
       "'companylistbyindustry.php?industryno=11'"
      ]
     },
     "execution_count": 16,
     "metadata": {},
     "output_type": "execute_result"
    }
   ],
   "source": [
    "industries[1].a['href']"
   ]
  },
  {
   "cell_type": "code",
   "execution_count": 17,
   "metadata": {},
   "outputs": [],
   "source": [
    "industry_name = industries[1].a.text"
   ]
  },
  {
   "cell_type": "code",
   "execution_count": 18,
   "metadata": {},
   "outputs": [
    {
     "data": {
      "text/plain": [
       "'Bank'"
      ]
     },
     "execution_count": 18,
     "metadata": {},
     "output_type": "execute_result"
    }
   ],
   "source": [
    "industry_name"
   ]
  },
  {
   "cell_type": "code",
   "execution_count": 19,
   "metadata": {},
   "outputs": [
    {
     "data": {
      "text/plain": [
       "'https://www.dsebd.org/companylistbyindustry.php?industryno=11'"
      ]
     },
     "execution_count": 19,
     "metadata": {},
     "output_type": "execute_result"
    }
   ],
   "source": [
    "'https://www.dsebd.org/' + industries[1].a['href']"
   ]
  }
 ],
 "metadata": {
  "kernelspec": {
   "display_name": "Python 3 (ipykernel)",
   "language": "python",
   "name": "python3"
  },
  "language_info": {
   "codemirror_mode": {
    "name": "ipython",
    "version": 3
   },
   "file_extension": ".py",
   "mimetype": "text/x-python",
   "name": "python",
   "nbconvert_exporter": "python",
   "pygments_lexer": "ipython3",
   "version": "3.7.11"
  }
 },
 "nbformat": 4,
 "nbformat_minor": 4
}
