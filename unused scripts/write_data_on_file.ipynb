{
 "cells": [
  {
   "cell_type": "code",
   "execution_count": 13,
   "id": "e714c8d6-2707-45fa-9153-e15b0b65e1ec",
   "metadata": {},
   "outputs": [],
   "source": [
    "import pandas as pd"
   ]
  },
  {
   "cell_type": "code",
   "execution_count": 2,
   "id": "8df05c9a-f797-4470-bd33-ea70e0904400",
   "metadata": {},
   "outputs": [],
   "source": [
    "import csv"
   ]
  },
  {
   "cell_type": "code",
   "execution_count": 10,
   "id": "cd001417-05c9-4729-812a-b4c976549d36",
   "metadata": {},
   "outputs": [],
   "source": [
    "with open('accounts.csv', mode = 'w', newline = '') as accounts:\n",
    "    writer = csv.writer(accounts)\n",
    "    writer.writerow([100, 'Jones', 24.98])\n",
    "    writer.writerow([200, 'Doe', 345.67])\n",
    "    writer.writerow([300, 'White', 0.00])\n",
    "    writer.writerow([400, 'Stones', -42.16])\n",
    "    writer.writerow([500, 'Jones', 224.62])"
   ]
  },
  {
   "cell_type": "code",
   "execution_count": 12,
   "id": "bf69bc7a-5eee-4829-bea4-2a31d1bdce92",
   "metadata": {},
   "outputs": [
    {
     "name": "stdout",
     "output_type": "stream",
     "text": [
      "Account   Name       Balance\n",
      "100       Jones        24.98\n",
      "200       Doe         345.67\n",
      "300       White          0.0\n",
      "400       Stones      -42.16\n",
      "500       Jones       224.62\n"
     ]
    }
   ],
   "source": [
    "with open('accounts.csv', 'r', newline = '') as accounts:\n",
    "    print(f'{\"Account\":<10}{\"Name\":<8}{\"Balance\":>10}')\n",
    "    reader = csv.reader(accounts)\n",
    "    for record in reader:\n",
    "        account, name, balance = record\n",
    "        print(f'{account:<10}{name:<8}{balance:>10}')"
   ]
  },
  {
   "cell_type": "code",
   "execution_count": 14,
   "id": "eeba5d89-c07e-4e8f-8084-bb84c6ad3341",
   "metadata": {},
   "outputs": [],
   "source": [
    "df = pd.read_csv('accounts.csv', names = ['account', 'name', 'balance'])"
   ]
  },
  {
   "cell_type": "code",
   "execution_count": 15,
   "id": "f293857f-00d8-4cef-889c-1228768b52b5",
   "metadata": {},
   "outputs": [
    {
     "data": {
      "text/html": [
       "<div>\n",
       "<style scoped>\n",
       "    .dataframe tbody tr th:only-of-type {\n",
       "        vertical-align: middle;\n",
       "    }\n",
       "\n",
       "    .dataframe tbody tr th {\n",
       "        vertical-align: top;\n",
       "    }\n",
       "\n",
       "    .dataframe thead th {\n",
       "        text-align: right;\n",
       "    }\n",
       "</style>\n",
       "<table border=\"1\" class=\"dataframe\">\n",
       "  <thead>\n",
       "    <tr style=\"text-align: right;\">\n",
       "      <th></th>\n",
       "      <th>account</th>\n",
       "      <th>name</th>\n",
       "      <th>balance</th>\n",
       "    </tr>\n",
       "  </thead>\n",
       "  <tbody>\n",
       "    <tr>\n",
       "      <th>0</th>\n",
       "      <td>100</td>\n",
       "      <td>Jones</td>\n",
       "      <td>24.98</td>\n",
       "    </tr>\n",
       "    <tr>\n",
       "      <th>1</th>\n",
       "      <td>200</td>\n",
       "      <td>Doe</td>\n",
       "      <td>345.67</td>\n",
       "    </tr>\n",
       "    <tr>\n",
       "      <th>2</th>\n",
       "      <td>300</td>\n",
       "      <td>White</td>\n",
       "      <td>0.00</td>\n",
       "    </tr>\n",
       "    <tr>\n",
       "      <th>3</th>\n",
       "      <td>400</td>\n",
       "      <td>Stones</td>\n",
       "      <td>-42.16</td>\n",
       "    </tr>\n",
       "    <tr>\n",
       "      <th>4</th>\n",
       "      <td>500</td>\n",
       "      <td>Jones</td>\n",
       "      <td>224.62</td>\n",
       "    </tr>\n",
       "  </tbody>\n",
       "</table>\n",
       "</div>"
      ],
      "text/plain": [
       "   account    name  balance\n",
       "0      100   Jones    24.98\n",
       "1      200     Doe   345.67\n",
       "2      300   White     0.00\n",
       "3      400  Stones   -42.16\n",
       "4      500   Jones   224.62"
      ]
     },
     "execution_count": 15,
     "metadata": {},
     "output_type": "execute_result"
    }
   ],
   "source": [
    "df"
   ]
  },
  {
   "cell_type": "code",
   "execution_count": 44,
   "id": "cb161232-9f99-41a5-baa9-6401d7d46715",
   "metadata": {},
   "outputs": [],
   "source": [
    "with open('listings.csv', mode = 'w', newline = '') as listings:\n",
    "    writer = csv.writer(listings)\n",
    "    writer.writerow(['1STJANATAFM'])\n",
    "    writer.writerow(['ABBANK'])\n",
    "    writer.writerow(['NCCBANK'])"
   ]
  },
  {
   "cell_type": "code",
   "execution_count": 93,
   "id": "3dc31f02-dbc0-4b32-aae9-2cbb71b017a9",
   "metadata": {},
   "outputs": [],
   "source": [
    "stock_names = list()"
   ]
  },
  {
   "cell_type": "code",
   "execution_count": 94,
   "id": "051a9caa-3990-430b-88ba-e180aec702d8",
   "metadata": {},
   "outputs": [],
   "source": [
    "with open('listings.csv', 'r', newline = '') as listings:\n",
    "    reader = csv.reader(listings)\n",
    "    for stock in reader:\n",
    "        stock_names.extend(stock)"
   ]
  },
  {
   "cell_type": "code",
   "execution_count": 96,
   "id": "95cfcf3a-f45c-46a7-95c2-e5b75787c329",
   "metadata": {},
   "outputs": [
    {
     "data": {
      "text/plain": [
       "['1STJANATAFM', 'ABBANK', 'NCCBANK']"
      ]
     },
     "execution_count": 96,
     "metadata": {},
     "output_type": "execute_result"
    }
   ],
   "source": [
    "stock_names"
   ]
  },
  {
   "cell_type": "code",
   "execution_count": null,
   "id": "73326389-c8aa-4e77-bbe2-8b8103e364da",
   "metadata": {},
   "outputs": [],
   "source": []
  }
 ],
 "metadata": {
  "kernelspec": {
   "display_name": "Python 3 (ipykernel)",
   "language": "python",
   "name": "python3"
  },
  "language_info": {
   "codemirror_mode": {
    "name": "ipython",
    "version": 3
   },
   "file_extension": ".py",
   "mimetype": "text/x-python",
   "name": "python",
   "nbconvert_exporter": "python",
   "pygments_lexer": "ipython3",
   "version": "3.7.11"
  }
 },
 "nbformat": 4,
 "nbformat_minor": 5
}
