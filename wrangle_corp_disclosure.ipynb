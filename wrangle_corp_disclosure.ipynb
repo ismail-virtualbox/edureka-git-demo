{
 "cells": [
  {
   "cell_type": "code",
   "execution_count": 1,
   "id": "bf3a5b8e-ea5b-4d6b-ae4c-b49ca1ab6b9b",
   "metadata": {},
   "outputs": [],
   "source": [
    "import csv"
   ]
  },
  {
   "cell_type": "code",
   "execution_count": 2,
   "id": "4f25f63b-545d-4651-8b8c-e35e10ddaacb",
   "metadata": {},
   "outputs": [],
   "source": [
    "disclosures = open('corporate_disclosures.csv', 'r')"
   ]
  },
  {
   "cell_type": "code",
   "execution_count": 3,
   "id": "a30266d1-7bc7-4dfc-9233-6d22829c466f",
   "metadata": {},
   "outputs": [],
   "source": [
    "wrangle_disclosures = open('disclosures_wrangled.csv', 'w')"
   ]
  },
  {
   "cell_type": "code",
   "execution_count": 4,
   "id": "30cd0028-0ed6-4fb4-8fd3-4154ea14931d",
   "metadata": {},
   "outputs": [],
   "source": [
    "listings = open('listings.csv', 'w')"
   ]
  },
  {
   "cell_type": "code",
   "execution_count": 5,
   "id": "a62e5f94-70af-4916-aa8e-c757927d6b1a",
   "metadata": {},
   "outputs": [],
   "source": [
    "with disclosures, wrangle_disclosures, listings:\n",
    "    read_disclosure = csv.reader(disclosures)\n",
    "    write_disclosure_wrangled = csv.writer(wrangle_disclosures)\n",
    "    write_listing = csv.writer(listings)\n",
    "    \n",
    "    for record in disclosures:\n",
    "        if '-' in record or 'n/a' in record:\n",
    "            continue\n",
    "        else:\n",
    "            t_code, mp, sector, category, dividend, pe_q, pe_a, nav, fin_yr = record.split(',')\n",
    "        \n",
    "        write_listing.writerow([t_code])\n",
    "        write_disclosure_wrangled.writerow([t_code, sector, category, dividend, pe_q, pe_a, nav, fin_yr])"
   ]
  }
 ],
 "metadata": {
  "kernelspec": {
   "display_name": "Python 3 (ipykernel)",
   "language": "python",
   "name": "python3"
  },
  "language_info": {
   "codemirror_mode": {
    "name": "ipython",
    "version": 3
   },
   "file_extension": ".py",
   "mimetype": "text/x-python",
   "name": "python",
   "nbconvert_exporter": "python",
   "pygments_lexer": "ipython3",
   "version": "3.7.11"
  }
 },
 "nbformat": 4,
 "nbformat_minor": 5
}
