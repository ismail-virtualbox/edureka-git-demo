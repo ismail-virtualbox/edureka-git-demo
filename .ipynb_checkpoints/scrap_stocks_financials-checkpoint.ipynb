{
 "cells": [
  {
   "cell_type": "code",
   "execution_count": 1,
   "metadata": {},
   "outputs": [],
   "source": [
    "import csv"
   ]
  },
  {
   "cell_type": "code",
   "execution_count": 2,
   "metadata": {},
   "outputs": [],
   "source": [
    "from bs4 import BeautifulSoup"
   ]
  },
  {
   "cell_type": "code",
   "execution_count": 3,
   "metadata": {},
   "outputs": [],
   "source": [
    "import requests as uReq"
   ]
  },
  {
   "cell_type": "code",
   "execution_count": 4,
   "metadata": {},
   "outputs": [],
   "source": [
    "html_text = uReq.get('https://www.dsebd.org/latest_share_price_scroll_l.php').text"
   ]
  },
  {
   "cell_type": "code",
   "execution_count": 5,
   "metadata": {},
   "outputs": [],
   "source": [
    "soup = BeautifulSoup(html_text,'lxml')"
   ]
  },
  {
   "cell_type": "code",
   "execution_count": 6,
   "metadata": {},
   "outputs": [],
   "source": [
    "stocks_tcode_url = soup.find('table', class_ = 'table table-bordered background-white shares-table fixedHeader').find_all('a')"
   ]
  },
  {
   "cell_type": "code",
   "execution_count": 75,
   "metadata": {},
   "outputs": [],
   "source": [
    "list_temp_data_hold = list()"
   ]
  },
  {
   "cell_type": "code",
   "execution_count": 7,
   "metadata": {},
   "outputs": [],
   "source": [
    "stock_tcode_url_dict = dict()"
   ]
  },
  {
   "cell_type": "code",
   "execution_count": 8,
   "metadata": {},
   "outputs": [],
   "source": [
    "for stock in stocks_tcode_url:\n",
    "    stock_tcode_url_dict[f'{stock.text.strip()}'] = 'https://www.dsebd.org/' + stock['href']"
   ]
  },
  {
   "cell_type": "code",
   "execution_count": 78,
   "metadata": {},
   "outputs": [],
   "source": [
    "for stock_tcode, url in sorted(stock_tcode_url_dict.items()):\n",
    "    \n",
    "    #browse and download from the website, store the extracted lxml parsed page on soup_company.\n",
    "    html_text_company = uReq.get(url).text\n",
    "    soup_company = BeautifulSoup(html_text_company,'lxml')\n",
    "    \n",
    "    #group all the table from stock's page and extract disclosures \n",
    "    company_table_data = soup_company.find_all('table', class_ = 'table table-bordered background-white')\n",
    "    sector = company_table_data[1].find_all('tr', class_='alt')[1].find_all('td')[1].text #sector\n",
    "    pe_quarter = company_table_data[4].find('tr', class_ = 'alt').find_all('td')[-1].text #P/E: Quarterly report\n",
    "    pe_annual = company_table_data[5].find('tr', class_='alt').find_all('td')[-1].text #P/E audited report\n",
    "    \n",
    "    trading_price = company_table_data[0].find('tr').find('td').text #last trading Price\n",
    "    recent_dividend = company_table_data[7].find_all('tr')[-1].find_all('td')[-2].text.strip() #dividend return\n",
    "    \n",
    "    navps = company_table_data[6].find_all('tr')[-1].find_all('td')[-6].text.strip() #NAVPS\n",
    "    audit_year = company_table_data[7].find_all('tr')[-1].td.text #year of last audited financial report\n",
    "    market_category = company_table_data[9].find('tr').find_next_sibling('tr').find('td').find_next_sibling('td').text.strip() #category\n",
    "    list_temp_data_hold.append([stock_tcode, trading_price, sector, market_category, recent_dividend, pe_quarter, pe_annual, navps, audit_year])"
   ]
  },
  {
   "cell_type": "code",
   "execution_count": 230,
   "metadata": {},
   "outputs": [
    {
     "data": {
      "text/plain": [
       "383"
      ]
     },
     "execution_count": 230,
     "metadata": {},
     "output_type": "execute_result"
    }
   ],
   "source": [
    "len(stock_tcode_url_dict)"
   ]
  },
  {
   "cell_type": "code",
   "execution_count": 80,
   "metadata": {
    "collapsed": true,
    "jupyter": {
     "outputs_hidden": true
    },
    "tags": []
   },
   "outputs": [
    {
     "name": "stdout",
     "output_type": "stream",
     "text": [
      "['1JANATAMF', '6.50', 'Mutual Funds', 'A', '13.00', '8.13', '2.56', '11.94', '2021']\n",
      "['1STPRIMFMF', '20.00', 'Mutual Funds', 'A', '8.00', '13.38', '52.11', '11.62', '2020']\n",
      "['AAMRANET', '45.90', 'IT Sector', 'A', '5.00, 5% B', '22.5', '21.45', '37.09', '2021']\n",
      "['AAMRATECH', '32.20', 'IT Sector', 'A', '5.00, 5% B', '15.19', '22.21', '23.93', '2021']\n",
      "['ABB1STMF', '5.70', 'Mutual Funds', 'A', '8.00', '8.38', '2.18', '11.97', '2021']\n",
      "['ABBANK', '13.60', 'Bank', 'B', '5% B', '23.18', '27.2', '32.26', '2020']\n",
      "['ACFL', '31.50', 'Textile', 'A', '11.00', '29.17', '25.2', '34.72', '2021']\n",
      "['ACI', '294.60', 'Pharmaceuticals & Chemicals', 'A', '65%, 15%B', '18.74', '53.56', '162.65', '2021']\n",
      "['ACIFORMULA', '166.70', 'Pharmaceuticals & Chemicals', 'A', '30.00, 5% B', '35.62', '35.17', '66.77', '2021']\n",
      "['ACMELAB', '92.00', 'Pharmaceuticals & Chemicals', 'A', '25.00', '8.3', '12.4', '95.04', '2021']\n",
      "['ACMEPL', '31.20', 'Pharmaceuticals & Chemicals', 'N', '-', '16.6', '18.91', '18.48', '2021']\n",
      "['ACTIVEFINE', '29.30', 'Pharmaceuticals & Chemicals', 'B', '0.50', '28.17', '183.13', '22.01', '2021']\n",
      "['ADNTEL', '52.30', 'IT Sector', 'A', '10.00', '20.75', '20.35', '25.97', '2021']\n",
      "['ADVENT', '27.20', 'Pharmaceuticals & Chemicals', 'B', '10.00 B', '17', '19.29', '13.50', '2020']\n",
      "['AFCAGRO', '31.30', 'Pharmaceuticals & Chemicals', 'B', '0.50', '26.98', '208.67', '18.00', '2021']\n",
      "['AFTABAUTO', '29.80', 'Engineering', 'A', '5.00, 5% B', '-', ' n/a ', '57.89', '2021']\n",
      "['AGNISYSL', '24.70', 'IT Sector', 'B', '3.50', '20.58', '32.08', '14.62', '2021']\n",
      "['AGRANINS', '55.40', 'Insurance', 'A', '5.00, 5% B', '30.33', '32.21', '18.11', '2020']\n",
      "['AIBL1STIMF', '8.90', 'Mutual Funds', 'A', '12.25', '43.2', '4.86', '11.57', '2021']\n",
      "['AIL', '51.80', 'Textile', 'A', '10.00', '35', '35.72', '21.66', '2021']\n",
      "['AL-HAJTEX', '85.50', 'Textile', 'B', '1.00', '712.5', '328.85', '8.61', '2021']\n",
      "['ALARABANK', '26.90', 'Bank', 'A', '15.00', '13.05', '11.12', '22.35', '2020']\n",
      "['ALIF', '15.80', 'Textile', 'B', '2.00', '26.33', '35.91', '14.18', '2021']\n",
      "['ALLTEX', '19.80', 'Textile', 'Z', '-', '-', ' n/a ', '5.87', '2021']\n",
      "['AMANFEED', '57.90', 'Miscellaneous', 'A', '15.00', '15.56', '22.89', '32.23', '2021']\n",
      "['AMBEEPHA', '504.10', 'Pharmaceuticals & Chemicals', 'A', '-', '1260.25', ' n/a ', '18.68', '2021']\n",
      "['AMCL(PRAN)', '383.00', 'Food & Allied', 'A', '32.00', '44.33', '71.32', '84.17', '2021']\n",
      "['ANLIMAYARN', '38.50', 'Textile', 'B', '2.00', '-', '770', '10.63', '2021']\n",
      "['ANWARGALV', '422.70', 'Engineering', 'A', '10.00, 5% B', '20.6', '208.23', '10.85', '2020']\n",
      "['AOL', '43.60', 'Fuel & Power', 'A', '2.00, 8% B', '22.24', '27.59', '19.25', '2020']\n",
      "['APEXFOODS', '181.30', 'Food & Allied', 'A', '20.00', '67.65', '87.58', '119.39', '2021']\n",
      "['APEXFOOT', '303.50', 'Tannery Industries', 'A', '35.00, 5% B', '31.61', '32.43', '256.81', '2021']\n",
      "['APEXSPINN', '132.40', 'Textile', 'A', '20.00', '50.92', '45.19', '55.81', '2021']\n",
      "['APEXTANRY', '142.90', 'Tannery Industries', 'A', '10.00', '390', '412.94', '63.17', '2021']\n",
      "['APOLOISPAT', '8.90', 'Engineering', 'B', '3%B', '-', '178', '20.19', '2018']\n",
      "['ARAMIT', '340.70', 'Miscellaneous', 'A', '50.00', '74.71', '44.3', '181.42', '2021']\n",
      "['ARAMITCEM', '37.30', 'Cement', 'Z', '-', '-', '62.17', '29.13', '2021']\n",
      "['ARGONDENIM', '19.20', 'Textile', 'A', '10.00, 5%B', '-', '27.04', '26.15', '2021']\n",
      "['ASIAINS', '97.50', 'Insurance', 'A', '12.00', '23', '41.67', '24.52', '2020']\n",
      "['ASIAPACINS', '64.30', 'Insurance', 'A', '10.00', '19.29', '32.64', '20.63', '2020']\n",
      "['ATCSLGF', '9.80', 'Mutual Funds', 'A', '15.00', '8.75', '5.08', '12.41', '2021']\n",
      "['ATLASBANG', '116.10', 'Engineering', 'B', '-', '-', ' n/a ', '128', '2021']\n",
      "['AZIZPIPES', '108.60', 'Engineering', 'B', '-', '-', ' n/a ', '-15.09', '2021']\n",
      "['BANGAS', '125.60', 'Food & Allied', 'B', '4.00', '523.33', '546.09', '21.02', '2021']\n",
      "['BANKASIA', '20.70', 'Bank', 'A', '10.00', '6.51', '11.78', '23.34', '2020']\n",
      "['BARKAPOWER', '24.80', 'Fuel & Power', 'A', '10.00', '7.38', '8.38', '20.91', '2021']\n",
      "['BATASHOE', '909.90', 'Tannery Industries', 'A', '25.00', '-', ' n/a ', '267.94', '2020']\n",
      "['BATBC', '646.20', 'Food & Allied', 'A', '600.00, 200%B', '22.64', '10.68', '188.89', '2020']\n",
      "['BAYLEASING', '31.90', 'Financial Institutions', 'A', '10.00', '8.7', '27.98', '19.80', '2020']\n",
      "['BBS', '18.50', 'Engineering', 'B', '2.00', '154.17', ' n/a ', '14.26', '2021']\n",
      "['BBSCABLES', '60.30', 'Engineering', 'A', '10.00, 5% B', '10.85', '12.46', '33.50', '2021']\n",
      "['BDAUTOCA', '158.00', 'Engineering', 'B', '4.00', '329.17', '427.03', '6.85', '2021']\n",
      "['BDCOM', '24.50', 'IT Sector', 'A', '5.00, 5% B', '21.12', '22.27', '15.57', '2021']\n",
      "['BDFINANCE', '53.00', 'Financial Institutions', 'A', '6.00 6.00B', '19.2', '29.44', '17.86', '2020']\n",
      "['BDLAMPS', '222.90', 'Engineering', 'A', '20.00', '43.88', '43.71', '95.16', '2021']\n",
      "['BDSERVICE', '-', 'Travel & Leisure', 'Z', '-', '-', ' n/a ', '-25.24', '2021']\n",
      "['BDTHAI', '21.30', 'Engineering', 'B', '2.00', '44.38', '17.04', '28.11', '2021']\n",
      "['BDWELDING', '17.20', 'Fuel & Power', 'Z', '1%B', '-', ' n/a ', '11.61', '2019']\n",
      "['BEACHHATCH', '31.40', 'Food & Allied', 'Z', '-', '-', ' n/a ', '10.50', '2018']\n",
      "['BEACONPHAR', '240.80', 'Pharmaceuticals & Chemicals', 'B', '15.00', '39.61', '64.39', '23.18', '2021']\n",
      "['BENGALWTL', '23.20', 'Engineering', 'B', '5.00', '34.12', '46.4', '24.87', '2021']\n",
      "['BERGERPBL', '1,797.00', 'Miscellaneous', 'A', '375.00', '35.02', '30.97', '232.78', '2021']\n",
      "['BEXIMCO', '144.10', 'Miscellaneous', 'B', '35.00', '8.77', '19.14', '78.28', '2021']\n",
      "['BGIC', '52.10', 'Insurance', 'A', '12.00', '20.78', '41.68', '19.38', '2020']\n",
      "['BIFC', '7.00', 'Financial Institutions', 'Z', '-', '-', ' n/a ', '-66.40', '2017']\n",
      "['BNICL', '123.50', 'Insurance', 'A', '15.00', '32.27', '53.23', '20.17', '2020']\n",
      "['BPML', '60.30', 'Paper & Printing', 'A', '12.00', '38.65', '25.44', '45.81', '2021']\n",
      "['BPPL', '36.80', 'Fuel & Power', 'N', '12.50', '8.14', '9.92', '16.34', '2021']\n",
      "['BRACBANK', '58.00', 'Bank', 'A', '10.00, 5% B', '15.16', '17.42', '36.63', '2020']\n",
      "['BSC', '135.70', 'Miscellaneous', 'A', '10.00', '7.82', '49.89', '56.03', '2020']\n",
      "['BSCCL', '225.00', 'Telecommunication', 'A', '37.00', '17.52', '19.45', '52.49', '2021']\n",
      "['BSRMLTD', '112.80', 'Engineering', 'A', '50.00', '6.57', '6.77', '127.56', '2021']\n",
      "['BSRMSTEEL', '77.20', 'Engineering', 'A', '40.00', '6.68', '9.53', '62.38', '2021']\n",
      "['BXPHARMA', '192.70', 'Pharmaceuticals & Chemicals', 'A', '35.00', '14.69', '16.77', '83.01', '2021']\n",
      "['BXSYNTH', '-', 'Pharmaceuticals & Chemicals', 'Z', '-', '-', ' n/a ', '-2.78', '2021']\n",
      "['CAPMBDBLMF', '10.40', 'Mutual Funds', 'A', '13.00', '6.96', '4.27', '11.81', '2021']\n",
      "['CAPMIBBLMF', '16.00', 'Mutual Funds', 'A', '13.50', '12.5', '8.47', '11.97', '2021']\n",
      "['CENTRALINS', '52.30', 'Insurance', 'A', '6.00, 7.50%B', '19.51', '23.99', '25.02', '2020']\n",
      "['CENTRALPHL', '13.90', 'Pharmaceuticals & Chemicals', 'B', '-', '-', ' n/a ', '6.53', '2021']\n",
      "['CITYBANK', '27.90', 'Bank', 'A', '17.50, 5% B', '7.02', '6.48', '29.03', '2020']\n",
      "['CITYGENINS', '40.80', 'Insurance', 'A', '10.00', '23.91', '23.05', '16.88', '2020']\n",
      "['CNATEX', '8.40', 'Textile', 'Z', '10%B', '11.67', '7.37', '16.74', '2016']\n",
      "['CONFIDCEM', '122.00', 'Cement', 'A', '25.00', '13.15', '7.69', '74.26', '2021']\n",
      "['CONTININS', '45.20', 'Insurance', 'A', '6.00, 4%B', '19.94', '35.04', '19.84', '2020']\n",
      "['COPPERTECH', '42.20', 'Engineering', 'B', '2.50', '34.03', '120.57', '11.24', '2020']\n",
      "['CRYSTALINS', '52.20', 'Insurance', 'A', '10.00', '21.28', '11.4', '20.98', '2020']\n",
      "['CVOPRL', '234.90', 'Fuel & Power', 'B', '10% B', '-', ' n/a ', '11.55', '2021']\n",
      "['DACCADYE', '22.80', 'Textile', 'B', '1.00', '18.39', '175.38', '8.36', '2020']\n",
      "['DAFODILCOM', '67.40', 'IT Sector', 'B', '6.00', '93.61', '96.29', '13.42', '2021']\n",
      "['DBH', '77.10', 'Financial Institutions', 'A', '15.00, 15% B', '12.63', '13.34', '41.72', '2020']\n",
      "['DBH1STMF', '7.70', 'Mutual Funds', 'A', '12.00', '56.82', '3.52', '11.79', '2021']\n",
      "['DELTALIFE', '185.40', 'Insurance', 'A', '26.00', '-', '-', '-', '2018']\n",
      "['DELTASPINN', '9.30', 'Textile', 'B', '10%B', '-', '32.07', '14.41', '2017']\n",
      "['DESCO', '40.00', 'Fuel & Power', 'A', '10.00', '71.43', '34.78', '46.76', '2020']\n",
      "['DESHBANDHU', '21.90', 'Engineering', 'B', '5.00', '39.11', '109.5', '18.07', '2021']\n",
      "['DGIC', '38.30', 'Insurance', 'A', '10.00', '29.02', '42.09', '7.16', '2020']\n",
      "['DHAKABANK', '14.50', 'Bank', 'A', '6.00, 6%B', '6.59', '6.53', '21.69', '2020']\n",
      "['DHAKAINS', '70.70', 'Insurance', 'A', '20.00', '21.41', '24.5', '31.61', '2020']\n",
      "['DOMINAGE', '26.10', 'Engineering', 'A', '2.00, 8% B', '43.5', '26.91', '21.23', '2020']\n",
      "['DOREENPWR', '75.20', 'Fuel & Power', 'A', '13.00, 12%B', '6.64', '9.3', '48.41', '2021']\n",
      "['DSHGARME', '188.10', 'Textile', 'B', '5.00', '180.87', '470.25', '19.70', '2021']\n",
      "['DSSL', '17.70', 'Textile', 'A', '15% B', '14.51', '14.39', '18.98', '2020']\n",
      "['DULAMIACOT', '49.50', 'Textile', 'Z', '-', '-', ' n/a ', '-37.42', '2021']\n",
      "['DUTCHBANGL', '78.90', 'Bank', 'A', '15.00, 15% B', '9.41', '7.84', '58.65', '2020']\n",
      "['EASTERNINS', '102.60', 'Insurance', 'A', '20.00', '19.05', '30.63', '47.33', '2020']\n",
      "['EASTLAND', '37.00', 'Insurance', 'A', '7.00 3% B', '28.18', '33.21', '21.32', '2020']\n",
      "['EASTRNLUB', '-', 'Fuel & Power', 'A', '30.00', '463.89', '591.18', '178.45', '2020']\n",
      "['EBL', '38.50', 'Bank', 'A', '17.50, 17.50% B', '6.86', '7.48', '36.28', '2020']\n",
      "['EBL1STMF', '7.50', 'Mutual Funds', 'A', '13.00', '3.52', '2.91', '11.76', '2021']\n",
      "['EBLNRBMF', '6.20', 'Mutual Funds', 'A', '6.00', '5.34', '3.23', '12.27', '2021']\n",
      "['ECABLES', '139.60', 'Engineering', 'B', '-', '-', ' n/a ', '15.11', '2020']\n",
      "['EGEN', '50.30', 'IT Sector', 'N', '10.00', '30.67', '31.24', '23.96', '2021']\n",
      "['EHL', '58.10', 'Services & Real Estate', 'A', '15.00', '19.37', '14.6', '70.33', '2021']\n",
      "['EIL', '33.50', 'Insurance', 'B', '7.00', '20.59', '25', '19', '2020']\n",
      "['EMERALDOIL', '37.30', 'Food & Allied', 'Z', '10%B', '310.83', '11.2', '17.23', '2016']\n",
      "['ENVOYTEX', '49.90', 'Textile', 'A', '5.00', '59.4', '89.11', '37.79', '2021']\n",
      "['EPGL', '42.80', 'Fuel & Power', 'N', '10.00', '21.84', '21.08', '57.72', '2021']\n",
      "['ESQUIRENIT', '38.20', 'Textile', 'A', '15.00', '13.7', '19.19', '50.61', '2020']\n",
      "['ETL', '10.50', 'Textile', 'B', '2.00', '-', '10500', '13.09', '2021']\n",
      "['EXIM1STMF', '6.40', 'Mutual Funds', 'A', '7.50', '6.67', '3.2', '12.00', '2021']\n",
      "['EXIMBANK', '12.70', 'Bank', 'A', '7.50, 2.5% B', '8.07', '6.38', '21.66', '2020']\n",
      "['FAMILYTEX', '4.80', 'Textile', 'Z', '-', '-', ' n/a ', '11.48', '2020']\n",
      "['FARCHEM', '12.00', 'Pharmaceuticals & Chemicals', 'B', '1.00', '-', ' n/a ', '13.71', '2021']\n",
      "['FAREASTFIN', '6.20', 'Financial Institutions', 'Z', '-', '-', ' n/a ', '2.85', '2019']\n",
      "['FAREASTLIF', '114.40', 'Insurance', 'A', '-', '-', '-', '-', '2020']\n",
      "['FASFIN', '7.00', 'Financial Institutions', 'B', '-', '-', ' n/a ', '-13.40', '2020']\n",
      "['FBFIF', '5.40', 'Mutual Funds', 'A', '4.00', '7.94', '2.8', '11.64', '2021']\n",
      "['FEDERALINS', '34.80', 'Insurance', 'A', '5.00, 5% B', '36.25', '26.17', '12.40', '2020']\n",
      "['FEKDIL', '17.40', 'Textile', 'A', '10.00', '19.77', '22.03', '19.48', '2021']\n",
      "['FINEFOODS', '50.70', 'Food & Allied', 'B', '-', '-', ' n/a ', '10.61', '2021']\n",
      "['FIRSTFIN', '6.50', 'Financial Institutions', 'Z', '-', '-', ' n/a ', '4.23', '2020']\n",
      "['FIRSTSBANK', '12.80', 'Bank', 'A', '5.00, 5% B', '7.38', '4.37', '18.91', '2020']\n",
      "['FORTUNE', '130.10', 'Tannery Industries', 'A', '5.00, 5% B', '25.21', '162.63', '13.63', '2020']\n",
      "['FUWANGCER', '18.80', 'Ceramics Sector', 'B', '2.00', '58.75', '55.29', '11.70', '2021']\n",
      "['FUWANGFOOD', '21.90', 'Food & Allied', 'B', '-', '91.25', '438', '11.85', '2021']\n",
      "['GBBPOWER', '36.30', 'Fuel & Power', 'A', '11.50', '25.93', '24.2', '20.93', '2021']\n",
      "['GEMINISEA', '347.70', 'Food & Allied', 'B', '5.00', '55.72', '482.92', '.93', '2021']\n",
      "['GENEXIL', '153.60', 'IT Sector', 'A', '10.00, 10% B', '27.04', '44.91', '17.50', '2020']\n",
      "['GENNEXT', '5.90', 'Textile', 'Z', '-', '-', '590', '11.91', '2021']\n",
      "['GHAIL', '17.60', 'Food & Allied', 'B', '5.00', '220', ' n/a ', '14.19', '2021']\n",
      "['GHCL', '33.90', 'Pharmaceuticals & Chemicals', 'B', '5.00', '-', '98.24', '54.65', '2021']\n",
      "['GLOBALINS', '50.50', 'Insurance', 'A', '10.00', '21.77', '33.01', '12.75', '2020']\n",
      "['GOLDENSON', '20.50', 'Engineering', 'B', '2.75', '28.47', '68.33', '20.22', '2021']\n",
      "['GP', '358.60', 'Telecommunication', 'A', '275.00', '13.99', '13.02', '38.59', '2020']\n",
      "['GPHISPAT', '62.40', 'Engineering', 'A', '20.00, 10%B', '13.81', '14.93', '29.86', '2021']\n",
      "['GQBALLPEN', '110.50', 'Miscellaneous', 'B', '5.00', '-', ' n/a ', '140.00', '2021']\n",
      "['GRAMEENS2', '16.20', 'Mutual Funds', 'A', '13.00', '7.79', '13.39', '20.82', '2021']\n",
      "['GREENDELMF', '7.60', 'Mutual Funds', 'A', '12.00', '37.25', '3.57', '11.69', '2021']\n",
      "['GREENDELT', '99.10', 'Insurance', 'A', '24.50, 7.50B', '13.2', '13.5', '68.95', '2020']\n",
      "['GSPFINANCE', '29.20', 'Financial Institutions', 'A', '10% B', '17.24', '18.84', '21.90', '2020']\n",
      "['HAKKANIPUL', '61.00', 'Paper & Printing', 'B', '1.00', '-', ' n/a ', '24.96', '2021']\n",
      "['HEIDELBCEM', '288.70', 'Cement', 'A', '20.00', '21.84', ' n/a ', '68.10', '2020']\n",
      "['HFL', '24.80', 'Textile', 'B', '5.00', '206.67', ' n/a ', '37.79', '2021']\n",
      "['HRTEX', '58.00', 'Textile', 'A', '10.00', '23.77', '52.25', '42.78', '2020']\n",
      "['HWAWELLTEX', '45.90', 'Textile', 'A', '20.00', '11.76', '15.32', '31.56', '2021']\n",
      "['IBNSINA', '280.00', 'Pharmaceuticals & Chemicals', 'A', '47.00', '15.54', '18.02', '68.69', '2021']\n",
      "['IBP', '19.40', 'Pharmaceuticals & Chemicals', 'B', '4.50,  2% B', '14.26', '13.86', '13.61', '2020']\n",
      "['ICB', '128.20', 'Financial Institutions', 'A', '11.00', '45.79', '89.65', '54.98', '2021']\n",
      "['ICB3RDNRB', '7.10', 'Mutual Funds', 'A', '7.00', '8.07', '13.65', '9.22', '2021']\n",
      "['ICBAGRANI1', '9.20', 'Mutual Funds', 'A', '7.00', '6.54', '13.09', '11.01', '2021']\n",
      "['ICBAMCL2ND', '9.10', 'Mutual Funds', 'A', '8.00', '5.99', '24.59', '10.33', '2021']\n",
      "['ICBEPMF1S1', '8.00', 'Mutual Funds', 'A', '6.00', '7.14', '19.51', '9.40', '2021']\n",
      "['ICBIBANK', '5.10', 'Bank', 'Z', '-', '-', ' n/a ', '-17.54', '2020']\n",
      "['ICBSONALI1', '8.20', 'Mutual Funds', 'A', '7.00', '6.53', '15.28', '10.39', '2021']\n",
      "['IDLC', '60.90', 'Financial Institutions', 'A', '15.00, 5% B', '11.36', '9.04', '40.41', '2020']\n",
      "['IFADAUTOS', '51.10', 'Engineering', 'A', '11.00', '31.16', '23.44', '40.81', '2021']\n",
      "['IFIC', '17.50', 'Bank', 'A', '5% B', '10.42', '25', '17.18', '2020']\n",
      "['IFIC1STMF', '5.70', 'Mutual Funds', 'A', '7.50', '7.13', '2.46', '11.48', '2021']\n",
      "['IFILISLMF1', '6.90', 'Mutual Funds', 'A', '4.00', '7.84', '22.26', '9.50', '2021']\n",
      "['ILFSL', '6.70', 'Financial Institutions', 'B', '-', '-', ' n/a ', '-144.93', '2020']\n",
      "['IMAMBUTTON', '24.70', 'Pharmaceuticals & Chemicals', 'Z', '-', '-', ' n/a ', '5.81', '2018']\n",
      "['INDEXAGRO', '125.00', 'Miscellaneous', 'A', '25.00', '20.42', '22.2', '58.27', '2021']\n",
      "['INTECH', '29.00', 'IT Sector', 'B', '1.00', '114.47', '193.33', '10.70', '2020']\n",
      "['INTRACO', '21.30', 'Fuel & Power', 'A', '5.00, 5% B', '16.14', '38.73', '12.28', '2020']\n",
      "['IPDC', '39.10', 'Financial Institutions', 'A', '12.00', '17.25', '20.58', '16.34', '2020']\n",
      "['ISLAMIBANK', '32.00', 'Bank', 'A', '10.00', '8.99', '10.74', '38.89', '2020']\n",
      "['ISLAMICFIN', '26.50', 'Financial Institutions', 'A', '10.00', '22.33', '17.21', '14.99', '2020']\n",
      "['ISLAMIINS', '62.80', 'Insurance', 'A', '10% B', '24.4', '28.81', '15.89', '2020']\n",
      "['ISNLTD', '44.40', 'IT Sector', 'B', '-', '84.81', ' n/a ', '2.47', '2021']\n",
      "['ITC', '34.90', 'IT Sector', 'B', '5.00', '25.66', '22.66', '16.48', '2021']\n",
      "['JAMUNABANK', '23.70', 'Bank', 'A', '17.50', '4.59', '6.69', '32.06', '2020']\n",
      "['JAMUNAOIL', '182.10', 'Fuel & Power', 'A', '120.00', '12.4', '10.04', '161.40', '2020']\n",
      "['JANATAINS', '45.30', 'Insurance', 'A', '6.00, 5%B', '27.8', '36.48', '14.45', '2020']\n",
      "['JMISMDL', '340.00', 'Pharmaceuticals & Chemicals', 'A', '30.00', '98.84', '84.37', '122.70', '2021']\n",
      "['JUTESPINN', '124.50', 'Jute', 'Z', '-', '-', ' n/a ', '-147.44', '2016']\n",
      "['KARNAPHULI', '41.00', 'Insurance', 'A', '10.00', '18.7', '26.05', '18.82', '2020']\n",
      "['KAY&QUE', '276.50', 'Engineering', 'B', '4.00', '576.04', '628.41', '76.79', '2020']\n",
      "['KBPPWBIL', '12.60', 'Miscellaneous', 'B', '-', '-', ' n/a ', '12.26', '2021']\n",
      "['KDSALTD', '64.40', 'Engineering', 'A', '15.00', '29.27', '29.27', '24.75', '2021']\n",
      "['KEYACOSMET', '7.00', 'Pharmaceuticals & Chemicals', 'B', '1.00', '29.17', '33.33', '0.23', '2020']\n",
      "['KOHINOOR', '404.70', 'Pharmaceuticals & Chemicals', 'A', '35.00, 15%B', '37.35', '38.56', '55.58', '2021']\n",
      "['KPCL', '31.60', 'Fuel & Power', 'A', '12.50', '-', '36.32', '22.07', '2021']\n",
      "['KPPL', '10.30', 'Paper & Printing', 'B', '-', '-', ' n/a ', '1.23', '2021']\n",
      "['KTL', '34.30', 'Textile', 'A', '10.00', '18.56', '67.12', '16.71', '2021']\n",
      "['LANKABAFIN', '39.20', 'Financial Institutions', 'A', '12.00', '17.6', '21.66', '18.73', '2020']\n",
      "['LEGACYFOOT', '66.20', 'Tannery Industries', 'B', '1.00', '331', '165.5', '10.83', '2021']\n",
      "['LHBL', '79.60', 'Cement', 'A', '10.00', '22.44', '39.21', '14.89', '2020']\n",
      "['LIBRAINFU', '1,058.30', 'Pharmaceuticals & Chemicals', 'A', '5.00', '1007.9', '1007.9', '1269', '2019']\n",
      "['LINDEBD', '1,737.10', 'Fuel & Power', 'A', '400.00', '20.97', '24.63', '355.71', '2020']\n",
      "['LOVELLO', '45.70', 'Food & Allied', 'N', '11.00', '28.56', '32.41', '12.57', '2021']\n",
      "['LRBDL', '40.70', 'Fuel & Power', 'N', '10.00', '19.2', '11.94', '36.45', '2021']\n",
      "['LRGLOBMF1', '7.00', 'Mutual Funds', 'A', '15.10', '4.03', '4.02', '13.47', '2021']\n",
      "['MAKSONSPIN', '28.20', 'Textile', 'B', '2.00', '9.4', ' n/a ', '18.20', '2020']\n",
      "['MALEKSPIN', '30.40', 'Textile', 'A', '10.00', '8.74', '9.05', '46.27', '2021']\n",
      "['MARICO', '2,336.90', 'Pharmaceuticals & Chemicals', 'A', '900.00', '18.63', '23.68', '51.95', '2021']\n",
      "['MATINSPINN', '65.50', 'Textile', 'A', '40.00', '6.11', '10.38', '53.84', '2021']\n",
      "['MBL1STMF', '8.10', 'Mutual Funds', 'A', '11.50', '26.49', '4.1', '11.89', '2021']\n",
      "['MEGCONMILK', '14.80', 'Food & Allied', 'Z', '-', '-', ' n/a ', '-67.81', '2021']\n",
      "['MEGHNACEM', '78.40', 'Cement', 'A', '5.00, 5% B', '42.39', '28.57', '70.14', '2021']\n",
      "['MEGHNALIFE', '86.50', 'Insurance', 'A', '15.00, 15% B', '-', '-', '-', '2020']\n",
      "['MEGHNAPET', '19.70', 'Food & Allied', 'Z', '-', '-', ' n/a ', '-4.54', '2021']\n",
      "['MERCANBANK', '17.30', 'Bank', 'A', '10.00, 5% B', '3.84', '7.65', '22.61', '2020']\n",
      "['MERCINS', '48.20', 'Insurance', 'A', '10.00', '32.28', '28.69', '19.05', '2020']\n",
      "['METROSPIN', '28.10', 'Textile', 'B', '2.00', '17.56', '351.25', '14.53', '2020']\n",
      "['MHSML', '31.50', 'Textile', 'B', '3.00', '32.81', '60.58', '18.16', '2021']\n",
      "['MICEMENT', '68.60', 'Cement', 'A', '20.00', '31.81', '11.87', '52.69', '2021']\n",
      "['MIDASFIN', '16.80', 'Financial Institutions', 'B', '2.50, 2.50%B', '-', '20.24', '11.69', '2020']\n",
      "['MIRACLEIND', '29.60', 'Miscellaneous', 'B', '1.00', '-', ' n/a ', '31.93', '2020']\n",
      "['MIRAKHTER', '64.50', 'Engineering', 'N', '12.50', '28.79', '15.32', '50.86', '2021']\n",
      "['MITHUNKNIT', '13.90', 'Textile', 'Z', '-', '-', ' n/a ', '19.75', '2018']\n",
      "['MJLBD', '94.20', 'Fuel & Power', 'A', '55.00', '12.59', '12.51', '39.69', '2021']\n",
      "['MLDYEING', '24.20', 'Textile', 'A', '10.00', '25.21', '39.03', '15.75', '2021']\n",
      "['MONNOAGML', '587.10', 'Engineering', 'A', '10.00', '407.71', '378.77', '13.62', '2021']\n",
      "['MONNOCERA', '115.70', 'Ceramics Sector', 'A', '10.00', '137.74', '128.56', '57.37', '2021']\n",
      "['MONNOFABR', '23.80', 'Textile', 'Z', '-', '297.5', '396.67', '27.37', '2021']\n",
      "['MONOSPOOL', '186.90', 'Paper & Printing', 'Z', '10.00', '161.12', '151.95', '40.43', '2021']\n",
      "['MPETROLEUM', '206.60', 'Fuel & Power', 'A', '150.00', '8.57', '7.26', '148.21', '2020']\n",
      "['MTB', '19.60', 'Bank', 'A', '10% B', '12.13', '14.81', '23.03', '2020']\n",
      "['NAHEEACP', '44.60', 'Engineering', 'A', '10.00', '21.86', '20.74', '17.38', '2021']\n",
      "['NATLIFEINS', '223.00', 'Insurance', 'A', '32.00', '-', '59.18', '48.27', '2020']\n",
      "['NAVANACNG', '31.40', 'Engineering', 'A', '5.00, 5% B', '130.83', '142.73', '35.28', '2021']\n",
      "['NBL', '7.50', 'Bank', 'B', '5% B', '12.78', '6.36', '16.92', '2020']\n",
      "['NCCBANK', '15.20', 'Bank', 'A', '7.50, 7.50% B', '5.59', '6.44', '22.15', '2020']\n",
      "['NCCBLMF1', '8.80', 'Mutual Funds', 'A', '7.25', '9.55', '7.77', '11.81', '2020']\n",
      "['NEWLINE', '38.20', 'Textile', 'A', '5.00, 5% B', '17.45', '33.68', '23.83', '2020']\n",
      "['NFML', '20.10', 'Miscellaneous', 'B', '2.00, 8% B', '167.5', '118.24', '12.76', '2020']\n",
      "['NHFIL', '57.80', 'Financial Institutions', 'A', '15.00', '20.55', '21.02', '17.91', '2020']\n",
      "['NITOLINS', '60.20', 'Insurance', 'A', '10.00', '22.02', '21.2', '27.23', '2020']\n",
      "['NLI1STMF', '14.00', 'Mutual Funds', 'A', '17.50', '14.69', '4.49', '15.32', '2021']\n",
      "['NORTHERN', '270.90', 'Jute', 'A', '5.00', '-', '23.91', '81.66', '2020']\n",
      "['NORTHRNINS', '52.30', 'Insurance', 'A', '10.00', '28.22', '30.06', '20.24', '2020']\n",
      "['NPOLYMER', '54.20', 'Engineering', 'A', '10.00', '24.2', '19.22', '30.49', '2021']\n",
      "['NRBCBANK', '28.00', 'Bank', 'A', '7.50, 5% B', '9.46', '14.29', '14.00', '2020']\n",
      "['NTC', '725.00', 'Food & Allied', 'A', '10.00', '51.79', ' n/a ', '84.27', '2021']\n",
      "['NTLTUBES', '91.40', 'Engineering', 'B', '2.00', '-', '1523.33', '153.12', '2021']\n",
      "['NURANI', '7.30', 'Textile', 'A', '10.00 B', '-', ' n/a ', '11.23', '2020']\n",
      "['OAL', '12.00', 'Engineering', 'B', '1.00', '-', ' n/a ', '13.64', '2021']\n",
      "['OIMEX', '18.70', 'Engineering', 'A', '-', '-', '233.75', '13.38', '2021']\n",
      "['OLYMPIC', '168.10', 'Food & Allied', 'A', '54.00', '20.4', '16.5', '46.21', '2021']\n",
      "['ONEBANKLTD', '13.80', 'Bank', 'A', '6.00, 5.50%B', '4.73', '8.79', '19.31', '2020']\n",
      "['ORIONINFU', '107.90', 'Pharmaceuticals & Chemicals', 'A', '10.00', '37.47', '78.76', '13.10', '2021']\n",
      "['ORIONPHARM', '105.00', 'Pharmaceuticals & Chemicals', 'A', '12.00', '87.5', '26.18', '79.76', '2021']\n",
      "['PADMALIFE', '52.00', 'Insurance', 'B', '-', '-', '-', '-', '2020']\n",
      "['PADMAOIL', '223.50', 'Fuel & Power', 'A', '125.00', '9.72', '8.04', '157.64', '2020']\n",
      "['PAPERPROC', '244.60', 'Paper & Printing', 'Z', '10.00', '77.41', '182.54', '27.97', '2021']\n",
      "['PARAMOUNT', '72.20', 'Insurance', 'A', '20%B', '17.58', '13.42', '26.62', '2020']\n",
      "['PDL', '12.50', 'Textile', 'B', '10.00 B', '31.25', '23.15', '14.65', '2020']\n",
      "['PENINSULA', '42.00', 'Travel & Leisure', 'A', '10.00', '33.87', '102.44', '30.28', '2021']\n",
      "['PEOPLESINS', '57.10', 'Insurance', 'A', '11.00', '21.1', '25.27', '28.60', '2020']\n",
      "['PF1STMF', '8.60', 'Mutual Funds', 'A', '6.00', '7.17', '26.88', '9.68', '2021']\n",
      "['PHARMAID', '728.60', 'Pharmaceuticals & Chemicals', 'A', '50.00', '35.37', '45.23', '93.26', '2021']\n",
      "['PHENIXINS', '56.50', 'Insurance', 'A', '15.00', '20.35', '23.99', '39.10', '2020']\n",
      "['PHOENIXFIN', '25.20', 'Financial Institutions', 'A', '12% B', '25.89', '18.53', '22.01', '2020']\n",
      "['PHPMF1', '5.50', 'Mutual Funds', 'A', '8.50', '9.17', '2.7', '11.85', '2021']\n",
      "['PIONEERINS', '110.50', 'Insurance', 'A', '20.00, 10%B', '13.91', '14.52', '49.75', '2020']\n",
      "['PLFSL', '-', 'Financial Institutions', 'Z', '-', '-', '30', '10.90', '2017']\n",
      "['POPULAR1MF', '5.60', 'Mutual Funds', 'A', '8.50', '7.37', '2.69', '11.85', '2021']\n",
      "['POPULARLIF', '92.40', 'Insurance', 'A', '40.00', '-', '24.51', '108.90', '2020']\n",
      "['POWERGRID', '71.40', 'Fuel & Power', 'A', '20.00', '9.81', '16.04', '110.39', '2020']\n",
      "['PRAGATIINS', '89.10', 'Insurance', 'A', '30.00', '14.13', '21.89', '53.51', '2020']\n",
      "['PRAGATILIF', '102.90', 'Insurance', 'A', '12.00', '-', '-', '-', '2020']\n",
      "['PREMIERBAN', '14.90', 'Bank', 'A', '12.50, 7.50% B', '5.01', '7', '21.02', '2020']\n",
      "['PREMIERCEM', '67.00', 'Cement', 'A', '20.00', '140', '10.87', '79.83', '2021']\n",
      "['PREMIERLEA', '7.90', 'Financial Institutions', 'B', '-', '-', ' n/a ', '16.03', '2020']\n",
      "['PRIME1ICBA', '7.70', 'Mutual Funds', 'A', '7.50', '4.38', '16.38', '10.15', '2021']\n",
      "['PRIMEBANK', '21.50', 'Bank', 'A', '15.00', '7.14', '13.42', '25.15', '2020']\n",
      "['PRIMEFIN', '15.70', 'Financial Institutions', 'B', '-', '40.6', '112.14', '11.76', '2020']\n",
      "['PRIMEINSUR', '79.10', 'Insurance', 'A', '10.00', '29.37', '60.38', '17.62', '2020']\n",
      "['PRIMELIFE', '89.20', 'Insurance', 'A', '-', '-', '-', '-', '2020']\n",
      "['PRIMETEX', '23.70', 'Textile', 'B', '2.00', '42.32', '38.23', '67.93', '2021']\n",
      "['PROGRESLIF', '109.50', 'Insurance', 'A', '10% B', '-', '-', '-', '2019']\n",
      "['PROVATIINS', '118.60', 'Insurance', 'A', '17% B', '30.26', '38.26', '21.11', '2020']\n",
      "['PTL', '103.10', 'Textile', 'A', '20.00, 5%B', '16.85', '24.15', '27.24', '2021']\n",
      "['PUBALIBANK', '27.80', 'Bank', 'A', '12.50', '4.55', '7.61', '37.63', '2020']\n",
      "['PURABIGEN', '38.60', 'Insurance', 'A', '5.00, 5% B', '27.06', '33.28', '13.09', '2020']\n",
      "['QUASEMIND', '51.00', 'Engineering', 'A', '5.00, 5% B', '115.23', '72.43', '31.01', '2020']\n",
      "['QUEENSOUTH', '25.40', 'Textile', 'A', '8.00, 8% B', '18.14', '26.46', '16.64', '2020']\n",
      "['RAHIMAFOOD', '338.40', 'Food & Allied', 'B', '1.00', '2115', '4834.29', '9.29', '2021']\n",
      "['RAHIMTEXT', '270.00', 'Textile', 'A', '16.00', '126.04', '118.76', '37.99', '2021']\n",
      "['RAKCERAMIC', '55.60', 'Ceramics Sector', 'A', '10.00', '28.37', '76.16', '16.41', '2020']\n",
      "['RANFOUNDRY', '224.40', 'Engineering', 'A', '23.00', '49.21', '60.98', '29.11', '2021']\n",
      "['RDFOOD', '56.10', 'Food & Allied', 'B', '3.00, 3% B', '34.21', '87.66', '14.65', '2021']\n",
      "['RECKITTBEN', '5,833.00', 'Pharmaceuticals & Chemicals', 'A', '1400.00', '41.55', '37.27', '170.95', '2020']\n",
      "['REGENTTEX', '10.10', 'Textile', 'B', '-', '-', ' n/a ', '26.52', '2021']\n",
      "['RELIANCE1', '11.50', 'Mutual Funds', 'A', '10.50', '9.19', '10.75', '14.76', '2021']\n",
      "['RELIANCINS', '85.00', 'Insurance', 'A', '25.00', '13.34', '16.31', '60.73', '2020']\n",
      "['RENATA', '1,315.10', 'Pharmaceuticals & Chemicals', 'A', '145.00, 10% B', '23.17', '25.32', '263.85', '2021']\n",
      "['RENWICKJA', '1,149.10', 'Engineering', 'A', '-', '-', ' n/a ', '-23.25', '2021']\n",
      "['REPUBLIC', '49.20', 'Insurance', 'A', '7.00, 7% B', '19.84', '20.85', '16.18', '2020']\n",
      "['RINGSHINE', '10.30', 'Textile', 'A', '15%B', '35.52', '5.99', '24.88', '2019']\n",
      "['RNSPIN', '6.60', 'Textile', 'Z', '-', '-', ' n/a ', '0.15', '2021']\n",
      "['ROBI', '39.70', 'Telecommunication', 'N', '-', '93.05', '120.3', '13.90', '2020']\n",
      "['RSRMSTEEL', '23.50', 'Engineering', 'A', '-', '-', ' n/a ', '44.94', '2021']\n",
      "['RUNNERAUTO', '54.90', 'Engineering', 'A', '10.00', '25.9', '20.33', '65.16', '2021']\n",
      "['RUPALIBANK', '33.50', 'Bank', 'A', '10% B', '67.91', '68.37', '44.10', '2020']\n",
      "['RUPALIINS', '42.90', 'Insurance', 'A', '10.00', '21.59', '22.58', '21.41', '2020']\n",
      "['RUPALILIFE', '77.30', 'Insurance', 'A', '13.00, 2% B', '-', '-', '-', '2020']\n",
      "['SAFKOSPINN', '26.20', 'Textile', 'B', '5.00', '327.5', '113.91', '21.44', '2021']\n",
      "['SAIFPOWER', '45.80', 'Services & Real Estate', 'A', '5.00, 5% B', '22.02', '40.18', '16.63', '2020']\n",
      "['SAIHAMCOT', '16.40', 'Textile', 'A', '10.00', '-', '15.19', '37.20', '2021']\n",
      "['SAIHAMTEX', '22.40', 'Textile', 'A', '10.00', '19.31', '20.18', '42.91', '2021']\n",
      "['SALAMCRST', '28.40', 'Engineering', 'A', '10.00', '37.37', '51.64', '19.01', '2020']\n",
      "['SALVOCHEM', '52.40', 'Pharmaceuticals & Chemicals', 'B', '2.00', '23.82', '154.12', '12.69', '2021']\n",
      "['SAMATALETH', '81.20', 'Tannery Industries', 'B', '0.50', '-', '806', '14.39', '2021']\n",
      "['SAMORITA', '127.90', 'Services & Real Estate', 'A', '10.00', '29.61', '57.35', '51.46', '2021']\n",
      "['SANDHANINS', '38.10', 'Insurance', 'A', '12.00', '-', '27.02', '18.15', '2020']\n",
      "['SAPORTL', '27.20', 'Services & Real Estate', 'A', '10.00', '30.91', '34.43', '33.52', '2021']\n",
      "['SAVAREFR', '188.90', 'Miscellaneous', 'Z', '-', '-', ' n/a ', '6.28', '2016']\n",
      "['SBACBANK', '16.10', 'Bank', 'N', '4.00, 4%B', '14.91', '13.31', '13.59', '2020']\n",
      "['SEAPEARL', '44.60', 'Travel & Leisure', 'B', '1.00', '-', '73.11', '10.63', '2021']\n",
      "['SEBL1STMF', '-', 'Mutual Funds', 'A', '3.00', '3.81', ' n/a ', '10.50', '2020']\n",
      "['SEMLFBSLGF', '8.40', 'Mutual Funds', 'A', '15.00', '6.36', '4.49', '12.40', '2021']\n",
      "['SEMLIBBLSF', '9.30', 'Mutual Funds', 'A', '10.00', '3.52', '3.96', '11.31', '2021']\n",
      "['SEMLLECMF', '9.60', 'Mutual Funds', 'A', '15.00', '2.47', '3.35', '11.84', '2021']\n",
      "['SHAHJABANK', '22.70', 'Bank', 'A', '7.00 5% B', '6.89', '11.54', '18.33', '2020']\n",
      "['SHASHADNIM', '26.20', 'Textile', 'A', '10.00', '15.23', '25.69', '41.97', '2021']\n",
      "['SHEPHERD', '29.50', 'Textile', 'B', '2.50, 2.50%B', '24.58', ' n/a ', '14.67', '2021']\n",
      "['SHURWID', '20.90', 'Engineering', 'A', '10.00', '8.29', '15.14', '12.21', '2019']\n",
      "['SHYAMPSUG', '80.10', 'Food & Allied', 'Z', '-', '-', ' n/a ', '-1114.52', '2021']\n",
      "['SIBL', '18.30', 'Bank', 'A', '5.00, 5% B', '16.94', '10.96', '19.29', '2020']\n",
      "['SILCOPHL', '25.40', 'Pharmaceuticals & Chemicals', 'A', '10.00', '18.68', '31.75', '21.64', '2020']\n",
      "['SILVAPHL', '19.40', 'Pharmaceuticals & Chemicals', 'B', '5.00', '16.72', '22.05', '16.63', '2021']\n",
      "['SIMTEX', '18.80', 'Textile', 'B', '4.00', '29.38', '20.43', '21.82', '2021']\n",
      "['SINGERBD', '177.70', 'Engineering', 'A', '30.00', '22.32', '22.64', '32.19', '2020']\n",
      "['SINOBANGLA', '53.60', 'Miscellaneous', 'A', '5.00', '46.55', '41.22', '25.69', '2020']\n",
      "['SKICL', '75.20', 'Insurance', 'N', '-', '16.35', '31.86', '21.09', '2020']\n",
      "['SKTRIMS', '30.30', 'Miscellaneous', 'B', '5.00', '31.67', '26.67', '14.10', '2021']\n",
      "['SONALIANSH', '469.90', 'Jute', 'A', '10.00', '415.84', '415.84', '225.65', '2021']\n",
      "['SONALILIFE', '72.00', 'Insurance', 'A', '10.00', '-', '-', '-', '2020']\n",
      "['SONALIPAPR', '725.10', 'Paper & Printing', 'A', '20.00, 20%B', '27.22', '148.28', '284.33', '2021']\n",
      "['SONARBAINS', '71.10', 'Insurance', 'A', '15.00', '27.07', '34.02', '19.62', '2020']\n",
      "['SONARGAON', '18.10', 'Textile', 'B', '-', '-', ' n/a ', '11.08', '2021']\n",
      "['SOUTHEASTB', '15.60', 'Bank', 'A', '10.00', '3.74', '8.62', '24.98', '2020']\n",
      "['SPCERAMICS', '29.20', 'Ceramics Sector', 'B', '2.50', '365', '91.25', '30.63', '2021']\n",
      "['SPCL', '93.30', 'Fuel & Power', 'A', '28.00, 2% B', '10.95', '20.87', '34.94', '2020']\n",
      "['SQUARETEXT', '63.80', 'Textile', 'A', '20.00', '6.93', '18.71', '38.69', '2021']\n",
      "['SQURPHARMA', '220.50', 'Pharmaceuticals & Chemicals', 'A', '60.00', '9.77', '12.26', '102.54', '2021']\n",
      "['SSSTEEL', '20.50', 'Engineering', 'A', '2.00, 8% B', '7.02', '13.23', '17.48', '2020']\n",
      "['STANCERAM', '163.20', 'Ceramics Sector', 'B', '1.00', '-', '680.83', '9.72', '2021']\n",
      "['STANDARINS', '74.80', 'Insurance', 'A', '12.50', '24.97', '35.7', '19.09', '2020']\n",
      "['STANDBANKL', '10.50', 'Bank', 'A', '2.50, 2.50%B', '28.13', '9.72', '16.67', '2020']\n",
      "['STYLECRAFT', '116.90', 'Textile', 'A', '-', '-', ' n/a ', '22.18', '2021']\n",
      "['SUMITPOWER', '39.70', 'Fuel & Power', 'A', '35.00', '9.73', '7.56', '34.45', '2021']\n",
      "['SUNLIFEINS', '40.90', 'Insurance', 'Z', '1.00', '-', '-', '-', '2020']\n",
      "['TAKAFULINS', '56.00', 'Insurance', 'A', '10.00', '24.42', '33.94', '17.97', '2020']\n",
      "['TALLUSPIN', '13.30', 'Textile', 'Z', '-', '-', ' n/a ', '11.97', '2019']\n",
      "['TAMIJTEX', '185.50', 'Textile', 'Z', '20.00', '62.47', '91.41', '82.30', '2021']\n",
      "['TITASGAS', '44.10', 'Fuel & Power', 'A', '22.00', '16.96', '12.6', '72.57', '2021']\n",
      "['TOSRIFA', '18.00', 'Textile', 'B', '2.50, 2.50%B', '28.13', '28.13', '29.35', '2021']\n",
      "['TRUSTB1MF', '6.00', 'Mutual Funds', 'A', '9.00', '9.83', '2.63', '11.91', '2021']\n",
      "['TRUSTBANK', '34.60', 'Bank', 'A', '10.00, 10% B', '6.58', '12.32', '27.37', '2020']\n",
      "['TUNGHAI', '6.80', 'Textile', 'Z', '-', '8.36', ' n/a ', '-5.76', '2021']\n",
      "['UCB', '16.20', 'Bank', 'A', '5.00, 5% B', '7.36', '6.69', '29.35', '2020']\n",
      "['UNILEVERCL', '3,016.70', 'Food & Allied', 'A', '440.00', '70.48', '68.65', '123.08', '2020']\n",
      "['UNIONCAP', '9.70', 'Financial Institutions', 'B', '-', '-', ' n/a ', '4.12', '2020']\n",
      "['UNIONINS', '13.30', 'Insurance', 'N', '-', '6.74', '10.39', '17.39', '2020']\n",
      "['UNIQUEHRL', '57.50', 'Travel & Leisure', 'A', '10.00', '-', ' n/a ', '88.03', '2021']\n",
      "['UNITEDFIN', '22.00', 'Financial Institutions', 'A', '10.00', '23.24', '19.47', '17.11', '2020']\n",
      "['UNITEDINS', '62.40', 'Insurance', 'A', '11.00', '26', '30.59', '33.04', '2020']\n",
      "['UPGDCL', '258.20', 'Fuel & Power', 'A', '170.00', '12.91', '13.73', '56.18', '2021']\n",
      "['USMANIAGL', '62.60', 'Miscellaneous', 'Z', '-', '-', ' n/a ', '85.82', '2021']\n",
      "['UTTARABANK', '26.40', 'Bank', 'A', '12.50, 12.50% B', '7.35', '6.14', '34.79', '2020']\n",
      "['UTTARAFIN', '42.30', 'Financial Institutions', 'A', '15.00, 5% B', '18.84', '4.47', '62.45', '2019']\n",
      "['VAMLBDMF1', '7.80', 'Mutual Funds', 'A', '15.00', '3.44', '3.62', '14.63', '2021']\n",
      "['VAMLRBBF', '8.90', 'Mutual Funds', 'A', '1.6%', '4.15', '5.24', '10.16', '2020']\n",
      "['VFSTDL', '21.70', 'Textile', 'A', '11.00', '13.56', '14.47', '18.70', '2021']\n",
      "['WALTONHIL', '1,134.90', 'Engineering', 'A', '250.00', '30.57', '20.94', '311.59', '2021']\n",
      "['WATACHEM', '295.80', 'Pharmaceuticals & Chemicals', 'A', '30.00', '73.22', '48.18', '60.22', '2021']\n",
      "['WMSHIPYARD', '13.70', 'Engineering', 'B', '0.5, 2.5% B', '-', '15.93', '24.06', '2020']\n",
      "['YPL', '13.70', 'Engineering', 'B', '-', '-', ' n/a ', '11.12', '2021']\n",
      "['ZAHEENSPIN', '8.90', 'Textile', 'B', '-', '-', ' n/a ', '6.25', '2021']\n",
      "['ZAHINTEX', '7.90', 'Textile', 'B', '-', '-', ' n/a ', '15.71', '2021']\n",
      "['ZEALBANGLA', '120.00', 'Food & Allied', 'Z', '-', '-', ' n/a ', '-817.43', '2021']\n"
     ]
    }
   ],
   "source": [
    "for stock in list_temp_data_hold:\n",
    "    print(stock)"
   ]
  },
  {
   "cell_type": "markdown",
   "metadata": {},
   "source": [
    "list_temp_data_hold.clear()"
   ]
  },
  {
   "cell_type": "code",
   "execution_count": 176,
   "metadata": {},
   "outputs": [],
   "source": [
    "html_text_company = uReq.get(stock_tcode_url_dict['TALLUSPIN']).text"
   ]
  },
  {
   "cell_type": "code",
   "execution_count": 177,
   "metadata": {},
   "outputs": [],
   "source": [
    "soup_company = BeautifulSoup(html_text_company,'lxml')"
   ]
  },
  {
   "cell_type": "code",
   "execution_count": 178,
   "metadata": {},
   "outputs": [],
   "source": [
    "company_table_data = soup_company.find_all('table', class_ = 'table table-bordered background-white')"
   ]
  },
  {
   "cell_type": "code",
   "execution_count": 179,
   "metadata": {},
   "outputs": [],
   "source": [
    "if '-' not in company_table_data[0].find('tr').find('td').text:\n",
    "    trading_price = company_table_data[0].find('tr').find('td').text.replace(',','') #last trading Price\n",
    "elif '-' in company_table_data[0].find('tr').find('td').text:\n",
    "    trading_price = company_table_data[0].find('tr').find('td').text"
   ]
  },
  {
   "cell_type": "code",
   "execution_count": 180,
   "metadata": {},
   "outputs": [
    {
     "data": {
      "text/plain": [
       "'10.70'"
      ]
     },
     "execution_count": 180,
     "metadata": {},
     "output_type": "execute_result"
    }
   ],
   "source": [
    "trading_price"
   ]
  },
  {
   "cell_type": "code",
   "execution_count": 181,
   "metadata": {},
   "outputs": [
    {
     "data": {
      "text/plain": [
       "False"
      ]
     },
     "execution_count": 181,
     "metadata": {},
     "output_type": "execute_result"
    }
   ],
   "source": [
    "'-' in company_table_data[0].find('tr').find('td').text"
   ]
  },
  {
   "cell_type": "code",
   "execution_count": 182,
   "metadata": {},
   "outputs": [
    {
     "data": {
      "text/plain": [
       "'Textile'"
      ]
     },
     "execution_count": 182,
     "metadata": {},
     "output_type": "execute_result"
    }
   ],
   "source": [
    "company_table_data[1].find_all('tr', class_='alt')[1].find_all('td')[1].text #sector"
   ]
  },
  {
   "cell_type": "code",
   "execution_count": 183,
   "metadata": {},
   "outputs": [],
   "source": [
    "sector = company_table_data[1].find_all('tr', class_='alt')[1].find_all('td')[1].text #sector"
   ]
  },
  {
   "cell_type": "code",
   "execution_count": 184,
   "metadata": {},
   "outputs": [
    {
     "data": {
      "text/plain": [
       "'-'"
      ]
     },
     "execution_count": 184,
     "metadata": {},
     "output_type": "execute_result"
    }
   ],
   "source": [
    "company_table_data[4].find('tr', class_ = 'alt').find_all('td')[-1].text #P/E: Quarterly report"
   ]
  },
  {
   "cell_type": "code",
   "execution_count": 185,
   "metadata": {},
   "outputs": [],
   "source": [
    "pe_quarter = company_table_data[4].find('tr', class_ = 'alt').find_all('td')[-1].text #P/E: Quarterly report"
   ]
  },
  {
   "cell_type": "code",
   "execution_count": 186,
   "metadata": {},
   "outputs": [
    {
     "data": {
      "text/plain": [
       "'n/a'"
      ]
     },
     "execution_count": 186,
     "metadata": {},
     "output_type": "execute_result"
    }
   ],
   "source": [
    "company_table_data[5].find('tr', class_='alt').find_all('td')[-1].text.strip() #P/E audited report"
   ]
  },
  {
   "cell_type": "code",
   "execution_count": 187,
   "metadata": {},
   "outputs": [],
   "source": [
    "pe_annual = company_table_data[5].find('tr', class_='alt').find_all('td')[-1].text.strip() #P/E audited report"
   ]
  },
  {
   "cell_type": "code",
   "execution_count": 188,
   "metadata": {},
   "outputs": [
    {
     "data": {
      "text/plain": [
       "'n/a'"
      ]
     },
     "execution_count": 188,
     "metadata": {},
     "output_type": "execute_result"
    }
   ],
   "source": [
    "pe_annual"
   ]
  },
  {
   "cell_type": "code",
   "execution_count": 189,
   "metadata": {},
   "outputs": [],
   "source": [
    "dividend_check = company_table_data[7].find_all('tr')[-1].find_all('td')[-2].text.strip()"
   ]
  },
  {
   "cell_type": "code",
   "execution_count": 190,
   "metadata": {},
   "outputs": [
    {
     "data": {
      "text/plain": [
       "1"
      ]
     },
     "execution_count": 190,
     "metadata": {},
     "output_type": "execute_result"
    }
   ],
   "source": [
    "len(dividend_check.split(' '))"
   ]
  },
  {
   "cell_type": "code",
   "execution_count": 191,
   "metadata": {},
   "outputs": [
    {
     "data": {
      "text/plain": [
       "'-'"
      ]
     },
     "execution_count": 191,
     "metadata": {},
     "output_type": "execute_result"
    }
   ],
   "source": [
    "dividend_check"
   ]
  },
  {
   "cell_type": "code",
   "execution_count": 192,
   "metadata": {},
   "outputs": [
    {
     "data": {
      "text/plain": [
       "'-'"
      ]
     },
     "execution_count": 192,
     "metadata": {},
     "output_type": "execute_result"
    }
   ],
   "source": [
    "dividend_return(dividend_check, trading_price)"
   ]
  },
  {
   "cell_type": "code",
   "execution_count": 193,
   "metadata": {},
   "outputs": [],
   "source": [
    "def dividend_return(dividend_check, trading_price):\n",
    "    \n",
    "    if ',' in dividend_check or len(dividend_check.split(' ')) == 3:\n",
    "        dividends = dividend_check.split(',') if ',' in dividend_check else dividend_check.split(' ', 1)   #stores dividend paid in both cash and bonus shares\n",
    "        \n",
    "        dividend = dividend_in_bonus_cash(dividends, trading_price)\n",
    "    \n",
    "    elif '%' in dividend_check and ',' not in dividend_check: \n",
    "        dividend = dividend_in_bonus(dividend_check, trading_price)\n",
    "    \n",
    "    elif '-' in dividend_check:\n",
    "        dividend = dividend_check   #when dividend isn't mentioned on the website\n",
    "    \n",
    "    elif 'B' not in dividend_check and '%' not in dividend_check and '-' not in dividend_check and ',' not in dividend_check:\n",
    "        dividend = dividend_cash(dividend_check)   #Dividend paid in cash\n",
    "    \n",
    "    return dividend"
   ]
  },
  {
   "cell_type": "code",
   "execution_count": 194,
   "metadata": {},
   "outputs": [
    {
     "ename": "NameError",
     "evalue": "name 'list_temp_data_hold' is not defined",
     "output_type": "error",
     "traceback": [
      "\u001b[0;31m---------------------------------------------------------------------------\u001b[0m",
      "\u001b[0;31mNameError\u001b[0m                                 Traceback (most recent call last)",
      "\u001b[0;32m/tmp/ipykernel_4366/3244866629.py\u001b[0m in \u001b[0;36m<module>\u001b[0;34m\u001b[0m\n\u001b[1;32m      1\u001b[0m \u001b[0;32mwith\u001b[0m \u001b[0mopen\u001b[0m\u001b[0;34m(\u001b[0m\u001b[0;34m'accounts.csv'\u001b[0m\u001b[0;34m,\u001b[0m \u001b[0mmode\u001b[0m \u001b[0;34m=\u001b[0m \u001b[0;34m'w'\u001b[0m\u001b[0;34m,\u001b[0m \u001b[0mnewline\u001b[0m \u001b[0;34m=\u001b[0m \u001b[0;34m''\u001b[0m\u001b[0;34m)\u001b[0m \u001b[0;32mas\u001b[0m \u001b[0maccounts\u001b[0m\u001b[0;34m:\u001b[0m\u001b[0;34m\u001b[0m\u001b[0;34m\u001b[0m\u001b[0m\n\u001b[1;32m      2\u001b[0m     \u001b[0mwriter\u001b[0m \u001b[0;34m=\u001b[0m \u001b[0mcsv\u001b[0m\u001b[0;34m.\u001b[0m\u001b[0mwriter\u001b[0m\u001b[0;34m(\u001b[0m\u001b[0maccounts\u001b[0m\u001b[0;34m)\u001b[0m\u001b[0;34m\u001b[0m\u001b[0;34m\u001b[0m\u001b[0m\n\u001b[0;32m----> 3\u001b[0;31m     \u001b[0;32mfor\u001b[0m \u001b[0mstock\u001b[0m \u001b[0;32min\u001b[0m \u001b[0mlist_temp_data_hold\u001b[0m\u001b[0;34m:\u001b[0m\u001b[0;34m\u001b[0m\u001b[0;34m\u001b[0m\u001b[0m\n\u001b[0m\u001b[1;32m      4\u001b[0m         \u001b[0mwriter\u001b[0m\u001b[0;34m.\u001b[0m\u001b[0mwriterow\u001b[0m\u001b[0;34m(\u001b[0m\u001b[0mstock\u001b[0m\u001b[0;34m)\u001b[0m\u001b[0;34m\u001b[0m\u001b[0;34m\u001b[0m\u001b[0m\n",
      "\u001b[0;31mNameError\u001b[0m: name 'list_temp_data_hold' is not defined"
     ]
    }
   ],
   "source": [
    "with open('accounts.csv', mode = 'w', newline = '') as accounts:\n",
    "    writer = csv.writer(accounts)\n",
    "    for stock in list_temp_data_hold:\n",
    "        writer.writerow(stock)"
   ]
  },
  {
   "cell_type": "code",
   "execution_count": 195,
   "metadata": {},
   "outputs": [],
   "source": [
    "def dividend_in_bonus_cash(cash_and_bonus_dividends, market_price):\n",
    "    \"\"\"This function calculates total dividend from cash and bonus issues\"\"\"\n",
    "    \n",
    "    for dividend in cash_and_bonus_dividends:\n",
    "        if 'B' and '%' not in dividend:\n",
    "            cash_dividend = float(dividend)\n",
    "            \n",
    "        elif 'B' in dividend:\n",
    "            bonus_dividend = float(dividend.strip().replace('%', '').replace('%','').replace('B',''))\n",
    "    \n",
    "    \n",
    "    if '-' not in market_price:\n",
    "        return round(((cash_dividend / 100) * 10) + ((bonus_dividend / 100) * float(market_price)), 2)\n",
    "    \n",
    "    elif '-' in market_price:\n",
    "        return [cash_dividend, bonus_dividend]"
   ]
  },
  {
   "cell_type": "code",
   "execution_count": 16,
   "metadata": {},
   "outputs": [],
   "source": [
    "def dividend_in_bonus(bonus_dividend, market_price):\n",
    "    '''Calculates the amount of last bonus share dividend'''\n",
    "    dividend = float(bonus_dividend.strip().replace('%', '').replace('%','').replace('B',''))\n",
    "    \n",
    "    if '-' not in market_price:\n",
    "        return round(((dividend / 100) * float(market_price)), 2)\n",
    "    \n",
    "    elif '-' in market_price:\n",
    "        return str(dividend) + '%B'"
   ]
  },
  {
   "cell_type": "code",
   "execution_count": 17,
   "metadata": {},
   "outputs": [
    {
     "data": {
      "text/plain": [
       "1.21"
      ]
     },
     "execution_count": 17,
     "metadata": {},
     "output_type": "execute_result"
    }
   ],
   "source": [
    "dividend_in_bonus('12.12', '10')"
   ]
  },
  {
   "cell_type": "code",
   "execution_count": 197,
   "metadata": {},
   "outputs": [],
   "source": [
    "def dividend_cash(cash_dividend):\n",
    "    return round((float(cash_dividend) / 100) * 10 , 2)"
   ]
  },
  {
   "cell_type": "code",
   "execution_count": 234,
   "metadata": {},
   "outputs": [],
   "source": [
    "def calculate_navps(navps):\n",
    "    if '-' in navps or 'n/a' in navps:\n",
    "        return navps\n",
    "    elif '-' not in navps:\n",
    "        return float(navps.replace(',',''))"
   ]
  },
  {
   "cell_type": "code",
   "execution_count": 235,
   "metadata": {},
   "outputs": [
    {
     "data": {
      "text/plain": [
       "12.11"
      ]
     },
     "execution_count": 235,
     "metadata": {},
     "output_type": "execute_result"
    }
   ],
   "source": [
    "calculate_navps('12.11')"
   ]
  },
  {
   "cell_type": "code",
   "execution_count": 220,
   "metadata": {},
   "outputs": [
    {
     "data": {
      "text/plain": [
       "'-'"
      ]
     },
     "execution_count": 220,
     "metadata": {},
     "output_type": "execute_result"
    }
   ],
   "source": [
    "pe_quarter"
   ]
  },
  {
   "cell_type": "code",
   "execution_count": 221,
   "metadata": {},
   "outputs": [
    {
     "data": {
      "text/plain": [
       "'n/a'"
      ]
     },
     "execution_count": 221,
     "metadata": {},
     "output_type": "execute_result"
    }
   ],
   "source": [
    "pe_annual"
   ]
  },
  {
   "cell_type": "code",
   "execution_count": 222,
   "metadata": {},
   "outputs": [
    {
     "data": {
      "text/plain": [
       "True"
      ]
     },
     "execution_count": 222,
     "metadata": {},
     "output_type": "execute_result"
    }
   ],
   "source": [
    "'-' in pe_quarter or 'n/a' in pe_quarter"
   ]
  },
  {
   "cell_type": "code",
   "execution_count": 201,
   "metadata": {},
   "outputs": [
    {
     "data": {
      "text/plain": [
       "True"
      ]
     },
     "execution_count": 201,
     "metadata": {},
     "output_type": "execute_result"
    }
   ],
   "source": [
    "'-' in pe_annual or 'n/a' in pe_annual"
   ]
  },
  {
   "cell_type": "code",
   "execution_count": 208,
   "metadata": {},
   "outputs": [],
   "source": [
    "def calculate_eps(pe, stock_price):\n",
    "    '''Receives P/E and Trading price as arguments and returns eps'''\n",
    "    if '-' in pe or 'n/a' in pe or '-' in stock_price:\n",
    "        eps = None\n",
    "    else:\n",
    "        eps = round(float(stock_price) / float(pe), 2)\n",
    "    \n",
    "    return eps"
   ]
  },
  {
   "cell_type": "code",
   "execution_count": 209,
   "metadata": {},
   "outputs": [
    {
     "data": {
      "text/plain": [
       "True"
      ]
     },
     "execution_count": 209,
     "metadata": {},
     "output_type": "execute_result"
    }
   ],
   "source": [
    "'-' not in trading_price"
   ]
  },
  {
   "cell_type": "code",
   "execution_count": 210,
   "metadata": {},
   "outputs": [],
   "source": [
    "calculate_eps(pe_annual, trading_price)"
   ]
  },
  {
   "cell_type": "code",
   "execution_count": 38,
   "metadata": {},
   "outputs": [
    {
     "data": {
      "text/plain": [
       "'30.00'"
      ]
     },
     "execution_count": 38,
     "metadata": {},
     "output_type": "execute_result"
    }
   ],
   "source": [
    "company_table_data[7].find_all('tr')[-1].find_all('td')[-2].text.strip()"
   ]
  },
  {
   "cell_type": "code",
   "execution_count": 39,
   "metadata": {},
   "outputs": [
    {
     "data": {
      "text/plain": [
       "'30.00'"
      ]
     },
     "execution_count": 39,
     "metadata": {},
     "output_type": "execute_result"
    }
   ],
   "source": [
    "company_table_data[7].find_all('tr')[-1].find_all('td')[-2].text.strip() #dividend return"
   ]
  },
  {
   "cell_type": "code",
   "execution_count": 72,
   "metadata": {},
   "outputs": [
    {
     "data": {
      "text/plain": [
       "'A'"
      ]
     },
     "execution_count": 72,
     "metadata": {},
     "output_type": "execute_result"
    }
   ],
   "source": [
    "company_table_data[9].find('tr').find_next_sibling('tr').find('td').find_next_sibling('td').text.strip() #category"
   ]
  },
  {
   "cell_type": "code",
   "execution_count": 227,
   "metadata": {},
   "outputs": [],
   "source": [
    "navps = company_table_data[6].find_all('tr')[-1].find_all('td')[-6].text.strip() #NAVPS"
   ]
  },
  {
   "cell_type": "code",
   "execution_count": 228,
   "metadata": {},
   "outputs": [
    {
     "data": {
      "text/plain": [
       "'11.97'"
      ]
     },
     "execution_count": 228,
     "metadata": {},
     "output_type": "execute_result"
    }
   ],
   "source": [
    "navps"
   ]
  },
  {
   "cell_type": "code",
   "execution_count": 42,
   "metadata": {},
   "outputs": [
    {
     "data": {
      "text/plain": [
       "'2020'"
      ]
     },
     "execution_count": 42,
     "metadata": {},
     "output_type": "execute_result"
    }
   ],
   "source": [
    "company_table_data[7].find_all('tr')[-1].td.text #audit year of financial report"
   ]
  },
  {
   "cell_type": "code",
   "execution_count": 43,
   "metadata": {},
   "outputs": [],
   "source": [
    "import re"
   ]
  },
  {
   "cell_type": "code",
   "execution_count": null,
   "metadata": {},
   "outputs": [],
   "source": [
    "re.findall('\\d*\\.?\\d+', '12.22')"
   ]
  },
  {
   "cell_type": "code",
   "execution_count": 156,
   "metadata": {},
   "outputs": [
    {
     "data": {
      "text/plain": [
       "False"
      ]
     },
     "execution_count": 156,
     "metadata": {},
     "output_type": "execute_result"
    }
   ],
   "source": [
    "',' in 'mmhjg,' and '-' in 'hgjhdjhv,'"
   ]
  },
  {
   "cell_type": "code",
   "execution_count": 171,
   "metadata": {},
   "outputs": [
    {
     "data": {
      "text/plain": [
       "True"
      ]
     },
     "execution_count": 171,
     "metadata": {},
     "output_type": "execute_result"
    }
   ],
   "source": [
    "'B' not in 'ABC' or '%' not in 'ABC'"
   ]
  },
  {
   "cell_type": "code",
   "execution_count": 7,
   "metadata": {},
   "outputs": [],
   "source": [
    "a_number = 12"
   ]
  },
  {
   "cell_type": "code",
   "execution_count": 13,
   "metadata": {},
   "outputs": [],
   "source": [
    "def fun(number):\n",
    "    return 10"
   ]
  },
  {
   "cell_type": "code",
   "execution_count": 14,
   "metadata": {},
   "outputs": [],
   "source": [
    "a_number = fun(a_number)"
   ]
  },
  {
   "cell_type": "code",
   "execution_count": 15,
   "metadata": {},
   "outputs": [
    {
     "data": {
      "text/plain": [
       "10"
      ]
     },
     "execution_count": 15,
     "metadata": {},
     "output_type": "execute_result"
    }
   ],
   "source": [
    "a_number"
   ]
  },
  {
   "cell_type": "code",
   "execution_count": null,
   "metadata": {},
   "outputs": [],
   "source": []
  }
 ],
 "metadata": {
  "kernelspec": {
   "display_name": "Python 3 (ipykernel)",
   "language": "python",
   "name": "python3"
  },
  "language_info": {
   "codemirror_mode": {
    "name": "ipython",
    "version": 3
   },
   "file_extension": ".py",
   "mimetype": "text/x-python",
   "name": "python",
   "nbconvert_exporter": "python",
   "pygments_lexer": "ipython3",
   "version": "3.7.11"
  }
 },
 "nbformat": 4,
 "nbformat_minor": 4
}
