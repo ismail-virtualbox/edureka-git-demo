{
 "cells": [
  {
   "cell_type": "code",
   "execution_count": 22,
   "id": "d90ea143-96bf-43c9-8c10-0e232ffc28f9",
   "metadata": {},
   "outputs": [],
   "source": [
    "import csv"
   ]
  },
  {
   "cell_type": "code",
   "execution_count": 23,
   "id": "6817c7f4-ec56-43cc-9fd8-0bb1b2f80346",
   "metadata": {},
   "outputs": [],
   "source": [
    "from bs4 import BeautifulSoup"
   ]
  },
  {
   "cell_type": "code",
   "execution_count": 24,
   "id": "0637236d-c6b8-425b-8bf1-ae0271a9f3f5",
   "metadata": {},
   "outputs": [],
   "source": [
    "import requests as uReq"
   ]
  },
  {
   "cell_type": "code",
   "execution_count": 25,
   "id": "167bc62b-f388-483d-b020-4ff73039100a",
   "metadata": {},
   "outputs": [],
   "source": [
    "import re"
   ]
  },
  {
   "cell_type": "code",
   "execution_count": 13,
   "id": "72ecfdda-9eb7-4099-94c9-d5e2bd7bf27a",
   "metadata": {},
   "outputs": [],
   "source": [
    "def dividend_return(dividend_check, trading_price):\n",
    "    \n",
    "    if ',' and '%' in dividend_check:\n",
    "        dividends = dividend_check.split(',')   #stores dividend paid in both cash and bonus shares\n",
    "        dividend = dividend_in_bonus_cash(dividends, trading_price)\n",
    "    \n",
    "    elif 'B' in dividend_check and ',' not in dividend_check: \n",
    "        dividend = dividend_in_bonus(dividend_check, trading_price)\n",
    "    \n",
    "    elif '-' in dividend_check:\n",
    "        dividend = dividend_check   #when dividend isn't mentioned on the website\n",
    "    \n",
    "    elif 'B' and '%' and '-' and ',' not in dividend_check:\n",
    "        dividend = dividend_cash(dividend_check)   #Dividend paid in cash\n",
    "    \n",
    "    return dividend"
   ]
  },
  {
   "cell_type": "code",
   "execution_count": 8,
   "id": "6bd697e5-ff14-46d9-91a8-84839cad0cee",
   "metadata": {},
   "outputs": [],
   "source": [
    "def dividend_in_bonus_cash(cash_and_bonus_dividends, market_price):\n",
    "    \"\"\"This function calculates total dividend from cash and bonus issues\"\"\"\n",
    "    \n",
    "    for dividend in cash_and_bonus_dividends:\n",
    "        if 'B' and '%' not in dividend:\n",
    "            cash_dividend = float(dividend)\n",
    "            \n",
    "        elif 'B' in dividend:\n",
    "            bonus_dividend = float(dividend.strip().replace('%', '').replace('B',''))\n",
    "    \n",
    "    if '-' not in market_price:\n",
    "        return round(((cash_dividend / 100) * 10) + ((bonus_dividend / 100) * float(market_price)), 2)\n",
    "    \n",
    "    elif '-' in market_price:\n",
    "        return [cash_dividend, bonus_dividend]"
   ]
  },
  {
   "cell_type": "code",
   "execution_count": 9,
   "id": "332f0f40-b5b1-411a-b798-0a44ccf2ef39",
   "metadata": {},
   "outputs": [
    {
     "data": {
      "text/plain": [
       "[2.5, 2.5]"
      ]
     },
     "execution_count": 9,
     "metadata": {},
     "output_type": "execute_result"
    }
   ],
   "source": [
    "dividend_in_bonus_cash('2.50, 2.50%B'.split(','), '-')"
   ]
  },
  {
   "cell_type": "code",
   "execution_count": 10,
   "id": "1c5537a6-03b8-4bc1-9210-e6901eb5dc10",
   "metadata": {},
   "outputs": [],
   "source": [
    "def dividend_in_bonus(bonus_dividend, market_price):\n",
    "    '''Calculates the amount of last bonus share dividend'''\n",
    "    dividend = float(bonus_dividend.strip().replace('%', '').replace('%','').replace('B',''))\n",
    "    \n",
    "    if '-' not in market_price:\n",
    "        return round(((bonus_dividend / 100) * float(market_price)), 2)\n",
    "    \n",
    "    elif '-' in market_price:\n",
    "        return [bonus_dividend]"
   ]
  },
  {
   "cell_type": "code",
   "execution_count": 16,
   "id": "ef7cd7cd-2a5c-463f-9283-c0e974e89401",
   "metadata": {},
   "outputs": [],
   "source": [
    "def dividend_cash(cash_dividend):\n",
    "    '''Calculates the amount of paid dividend'''\n",
    "    \n",
    "    return round((float(cash_dividend) / 100) * 10 , 2)"
   ]
  },
  {
   "cell_type": "code",
   "execution_count": 11,
   "id": "ce96d389-3c02-4ac7-827a-4eb5b379333b",
   "metadata": {},
   "outputs": [],
   "source": [
    "def calculate_eps(pe, market_price):\n",
    "    '''Receives P/E and Trading price as arguments and returns eps'''\n",
    "    if '-' in pe or 'n/a' in pe or '-' in market_price:\n",
    "        eps = pe\n",
    "    else:\n",
    "        eps = round(float(market_price) / float(pe), 2)\n",
    "    \n",
    "    return eps"
   ]
  },
  {
   "cell_type": "code",
   "execution_count": 4,
   "id": "1c82e856-21c3-46ea-acd4-6a7176e46303",
   "metadata": {},
   "outputs": [],
   "source": [
    "html_text = uReq.get('https://www.dsebd.org/latest_share_price_scroll_l.php').text"
   ]
  },
  {
   "cell_type": "code",
   "execution_count": 5,
   "id": "9283a19f-0092-428b-85d9-2735d6926f5c",
   "metadata": {},
   "outputs": [],
   "source": [
    "soup = BeautifulSoup(html_text,'lxml')"
   ]
  },
  {
   "cell_type": "code",
   "execution_count": 7,
   "id": "eafd2890-e58e-4e45-bbc9-721fc40d7286",
   "metadata": {
    "tags": []
   },
   "outputs": [],
   "source": [
    "stocks_tcode_url = soup.find('table', class_ = 'table table-bordered background-white shares-table fixedHeader').find_all('a')"
   ]
  },
  {
   "cell_type": "code",
   "execution_count": 8,
   "id": "1283cd82-630c-4fa3-a2df-19277a866b27",
   "metadata": {},
   "outputs": [],
   "source": [
    "list_temp_data_hold = list()"
   ]
  },
  {
   "cell_type": "code",
   "execution_count": 9,
   "id": "2dd83cae-007b-411c-82ab-ce5bd8fca292",
   "metadata": {},
   "outputs": [],
   "source": [
    "stock_tcode_url_dict = dict()"
   ]
  },
  {
   "cell_type": "code",
   "execution_count": 10,
   "id": "83b8fb20-f937-4a99-8fc7-49d71bb1e12e",
   "metadata": {},
   "outputs": [],
   "source": [
    "for stock in stocks_tcode_url:\n",
    "    stock_tcode_url_dict[f'{stock.text.strip()}'] = 'https://www.dsebd.org/' + stock['href']"
   ]
  },
  {
   "cell_type": "code",
   "execution_count": 11,
   "id": "27f71d5d-bd42-4e0c-aff2-4dacf9d1f776",
   "metadata": {
    "tags": []
   },
   "outputs": [],
   "source": [
    "loop_counter = 0\n",
    "for stock_tcode, url in sorted(stock_tcode_url_dict.items()):\n",
    "    \n",
    "    #browse and download from the website, store the extracted lxml parsed page on soup_company.\n",
    "    html_text_company = uReq.get(url).text\n",
    "    soup_company = BeautifulSoup(html_text_company,'lxml')\n",
    "    \n",
    "    #group all the table from stock's page and extract disclosures \n",
    "    company_table_data = soup_company.find_all('table', class_ = 'table table-bordered background-white')\n",
    "    trading_price = company_table_data[0].find('tr').find('td').text #last trading Price\n",
    "    sector = company_table_data[1].find_all('tr', class_='alt')[1].find_all('td')[1].text #sector\n",
    "    pe_quarter = company_table_data[4].find('tr', class_ = 'alt').find_all('td')[-1].text #P/E: Quarterly report\n",
    "    pe_annual = company_table_data[5].find('tr', class_='alt').find_all('td')[-1].text #P/E audited report\n",
    "    \n",
    "    \n",
    "    recent_dividend = company_table_data[7].find_all('tr')[-1].find_all('td')[-2].text.strip() #dividend return\n",
    "    \n",
    "    navps = company_table_data[6].find_all('tr')[-1].find_all('td')[-6].text.strip() #NAVPS\n",
    "    audit_year = company_table_data[7].find_all('tr')[-1].td.text #year of last audited financial report\n",
    "    market_category = company_table_data[9].find('tr').find_next_sibling('tr').find('td').find_next_sibling('td').text.strip() #category\n",
    "    list_temp_data_hold.append([stock_tcode, trading_price, sector, market_category, recent_dividend, pe_quarter, pe_annual, navps, audit_year])\n",
    "    \n",
    "    if loop_counter == 10:\n",
    "        break\n",
    "    loop_counter += 1"
   ]
  },
  {
   "cell_type": "code",
   "execution_count": null,
   "id": "66181181-533f-48a9-957e-619a12cf11e6",
   "metadata": {},
   "outputs": [],
   "source": []
  },
  {
   "cell_type": "code",
   "execution_count": 37,
   "id": "eecb5ad5-ccf2-43da-a295-479bf0b51909",
   "metadata": {},
   "outputs": [],
   "source": [
    "re.findall('\\d*\\.?\\d+', '12.22')"
   ]
  }
 ],
 "metadata": {
  "kernelspec": {
   "display_name": "Python 3 (ipykernel)",
   "language": "python",
   "name": "python3"
  },
  "language_info": {
   "codemirror_mode": {
    "name": "ipython",
    "version": 3
   },
   "file_extension": ".py",
   "mimetype": "text/x-python",
   "name": "python",
   "nbconvert_exporter": "python",
   "pygments_lexer": "ipython3",
   "version": "3.7.11"
  }
 },
 "nbformat": 4,
 "nbformat_minor": 5
}
