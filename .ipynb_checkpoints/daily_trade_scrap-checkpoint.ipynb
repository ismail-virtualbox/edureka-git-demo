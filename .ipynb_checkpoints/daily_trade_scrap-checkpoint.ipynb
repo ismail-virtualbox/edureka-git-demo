{
 "cells": [
  {
   "cell_type": "code",
   "execution_count": 7,
   "metadata": {},
   "outputs": [],
   "source": [
    "from bs4 import BeautifulSoup"
   ]
  },
  {
   "cell_type": "code",
   "execution_count": 8,
   "metadata": {},
   "outputs": [],
   "source": [
    "import requests"
   ]
  },
  {
   "cell_type": "code",
   "execution_count": 9,
   "metadata": {},
   "outputs": [],
   "source": [
    "import numpy as np"
   ]
  },
  {
   "cell_type": "code",
   "execution_count": 31,
   "metadata": {},
   "outputs": [],
   "source": [
    "import csv"
   ]
  },
  {
   "cell_type": "code",
   "execution_count": 10,
   "metadata": {},
   "outputs": [],
   "source": [
    "import pandas as pd"
   ]
  },
  {
   "cell_type": "code",
   "execution_count": 11,
   "metadata": {},
   "outputs": [],
   "source": [
    "html_text = requests.get('https://www.dsebd.org/latest_share_price_scroll_l.php').text"
   ]
  },
  {
   "cell_type": "code",
   "execution_count": 12,
   "metadata": {},
   "outputs": [],
   "source": [
    "soup = BeautifulSoup(html_text, 'lxml')"
   ]
  },
  {
   "cell_type": "code",
   "execution_count": 13,
   "metadata": {},
   "outputs": [],
   "source": [
    "stocks_table = soup.find('div', class_ = 'table-responsive inner-scroll' )"
   ]
  },
  {
   "cell_type": "code",
   "execution_count": 14,
   "metadata": {},
   "outputs": [],
   "source": [
    "stocks = stocks_table.find_all('tr')"
   ]
  },
  {
   "cell_type": "code",
   "execution_count": 15,
   "metadata": {},
   "outputs": [
    {
     "name": "stdout",
     "output_type": "stream",
     "text": [
      "385\n"
     ]
    }
   ],
   "source": [
    "counter = 1\n",
    "for stock in stocks:\n",
    "    counter += 1\n",
    "print(counter)"
   ]
  },
  {
   "cell_type": "code",
   "execution_count": 16,
   "metadata": {},
   "outputs": [],
   "source": [
    "stocks_data_list = []\n",
    "loop_counter = 0\n",
    "for stock in stocks:    \n",
    "    \n",
    "    stock_data = stock.find_all('td')\n",
    "    \n",
    "    stock_data_list = []\n",
    "    nested_loop_counter = 0\n",
    "    \n",
    "    for data in stock_data:\n",
    "            \n",
    "        if 1 < nested_loop_counter < 8 :\n",
    "            stock_data_list += [float(data.text.replace('--' , '0').replace(',',''))]\n",
    "            \n",
    "        elif nested_loop_counter == 1:\n",
    "            stock_name = data.find('a')\n",
    "            stock_data_list += [stock_name.text.strip()]\n",
    "            \n",
    "        elif nested_loop_counter == 8:\n",
    "            stock_data_list += [int(data.text.replace(',','').replace('--', '0'))]\n",
    "            \n",
    "        elif nested_loop_counter == 9:\n",
    "            stock_data_list += [float(data.text.replace(',','').replace('--','0'))]\n",
    "                \n",
    "        elif nested_loop_counter == 10:\n",
    "            volume = int(data.text.replace(',',''))\n",
    "            stock_data_list += [volume]\n",
    "                \n",
    "        nested_loop_counter += 1\n",
    "        \n",
    "    stocks_data_list.append(stock_data_list)"
   ]
  },
  {
   "cell_type": "code",
   "execution_count": 17,
   "metadata": {},
   "outputs": [],
   "source": [
    "del stocks_data_list[0]"
   ]
  },
  {
   "cell_type": "code",
   "execution_count": 18,
   "metadata": {},
   "outputs": [],
   "source": [
    "stocks_data_headings = stocks[0].find_all('th')"
   ]
  },
  {
   "cell_type": "code",
   "execution_count": 19,
   "metadata": {},
   "outputs": [
    {
     "data": {
      "text/plain": [
       "[<th width=\"4%\">#</th>,\n",
       " <th width=\"12%\">TRADING CODE</th>,\n",
       " <th width=\"12%\">LTP*</th>,\n",
       " <th width=\"12%\">HIGH</th>,\n",
       " <th width=\"12%\">LOW</th>,\n",
       " <th width=\"12%\">CLOSEP*</th>,\n",
       " <th width=\"12%\">YCP*</th>,\n",
       " <th width=\"12%\">CHANGE</th>,\n",
       " <th width=\"12%\">TRADE</th>,\n",
       " <th width=\"12%\">VALUE (mn)</th>,\n",
       " <th width=\"12%\">VOLUME</th>]"
      ]
     },
     "execution_count": 19,
     "metadata": {},
     "output_type": "execute_result"
    }
   ],
   "source": [
    "stocks_data_headings"
   ]
  },
  {
   "cell_type": "code",
   "execution_count": 20,
   "metadata": {},
   "outputs": [],
   "source": [
    "loop_counter_headings = 0\n",
    "stocks_headings_list = []\n",
    "for heading in stocks_data_headings:\n",
    "    \n",
    "    if loop_counter_headings > 0:\n",
    "        stocks_headings_list += [heading.text]\n",
    "        \n",
    "    loop_counter_headings += 1"
   ]
  },
  {
   "cell_type": "code",
   "execution_count": 21,
   "metadata": {},
   "outputs": [
    {
     "data": {
      "text/plain": [
       "['TRADING CODE',\n",
       " 'LTP*',\n",
       " 'HIGH',\n",
       " 'LOW',\n",
       " 'CLOSEP*',\n",
       " 'YCP*',\n",
       " 'CHANGE',\n",
       " 'TRADE',\n",
       " 'VALUE (mn)',\n",
       " 'VOLUME']"
      ]
     },
     "execution_count": 21,
     "metadata": {},
     "output_type": "execute_result"
    }
   ],
   "source": [
    "stocks_headings_list"
   ]
  },
  {
   "cell_type": "code",
   "execution_count": 22,
   "metadata": {},
   "outputs": [
    {
     "data": {
      "text/plain": [
       "11"
      ]
     },
     "execution_count": 22,
     "metadata": {},
     "output_type": "execute_result"
    }
   ],
   "source": [
    "nested_loop_counter"
   ]
  },
  {
   "cell_type": "code",
   "execution_count": 23,
   "metadata": {},
   "outputs": [
    {
     "data": {
      "text/plain": [
       "383"
      ]
     },
     "execution_count": 23,
     "metadata": {},
     "output_type": "execute_result"
    }
   ],
   "source": [
    "len(stocks_data_list)"
   ]
  },
  {
   "cell_type": "code",
   "execution_count": 24,
   "metadata": {},
   "outputs": [],
   "source": [
    "df_stocks_data = pd.DataFrame(stocks_data_list, columns = stocks_headings_list)"
   ]
  },
  {
   "cell_type": "code",
   "execution_count": 25,
   "metadata": {
    "tags": []
   },
   "outputs": [
    {
     "data": {
      "text/html": [
       "<div>\n",
       "<style scoped>\n",
       "    .dataframe tbody tr th:only-of-type {\n",
       "        vertical-align: middle;\n",
       "    }\n",
       "\n",
       "    .dataframe tbody tr th {\n",
       "        vertical-align: top;\n",
       "    }\n",
       "\n",
       "    .dataframe thead th {\n",
       "        text-align: right;\n",
       "    }\n",
       "</style>\n",
       "<table border=\"1\" class=\"dataframe\">\n",
       "  <thead>\n",
       "    <tr style=\"text-align: right;\">\n",
       "      <th></th>\n",
       "      <th>TRADING CODE</th>\n",
       "      <th>LTP*</th>\n",
       "      <th>HIGH</th>\n",
       "      <th>LOW</th>\n",
       "      <th>CLOSEP*</th>\n",
       "      <th>YCP*</th>\n",
       "      <th>CHANGE</th>\n",
       "      <th>TRADE</th>\n",
       "      <th>VALUE (mn)</th>\n",
       "      <th>VOLUME</th>\n",
       "    </tr>\n",
       "  </thead>\n",
       "  <tbody>\n",
       "    <tr>\n",
       "      <th>0</th>\n",
       "      <td>1JANATAMF</td>\n",
       "      <td>6.6</td>\n",
       "      <td>6.7</td>\n",
       "      <td>6.3</td>\n",
       "      <td>6.6</td>\n",
       "      <td>6.5</td>\n",
       "      <td>0.1</td>\n",
       "      <td>285</td>\n",
       "      <td>16.268</td>\n",
       "      <td>2498152</td>\n",
       "    </tr>\n",
       "    <tr>\n",
       "      <th>1</th>\n",
       "      <td>1STPRIMFMF</td>\n",
       "      <td>20.3</td>\n",
       "      <td>20.4</td>\n",
       "      <td>19.9</td>\n",
       "      <td>20.3</td>\n",
       "      <td>19.8</td>\n",
       "      <td>0.5</td>\n",
       "      <td>119</td>\n",
       "      <td>3.856</td>\n",
       "      <td>191222</td>\n",
       "    </tr>\n",
       "    <tr>\n",
       "      <th>2</th>\n",
       "      <td>AAMRANET</td>\n",
       "      <td>45.5</td>\n",
       "      <td>46.2</td>\n",
       "      <td>45.3</td>\n",
       "      <td>45.5</td>\n",
       "      <td>45.7</td>\n",
       "      <td>-0.2</td>\n",
       "      <td>380</td>\n",
       "      <td>10.228</td>\n",
       "      <td>223931</td>\n",
       "    </tr>\n",
       "    <tr>\n",
       "      <th>3</th>\n",
       "      <td>AAMRATECH</td>\n",
       "      <td>31.6</td>\n",
       "      <td>32.8</td>\n",
       "      <td>31.4</td>\n",
       "      <td>31.6</td>\n",
       "      <td>31.9</td>\n",
       "      <td>-0.3</td>\n",
       "      <td>679</td>\n",
       "      <td>33.768</td>\n",
       "      <td>1053813</td>\n",
       "    </tr>\n",
       "    <tr>\n",
       "      <th>4</th>\n",
       "      <td>ABB1STMF</td>\n",
       "      <td>5.7</td>\n",
       "      <td>5.8</td>\n",
       "      <td>5.7</td>\n",
       "      <td>5.7</td>\n",
       "      <td>5.7</td>\n",
       "      <td>0.0</td>\n",
       "      <td>63</td>\n",
       "      <td>1.087</td>\n",
       "      <td>190444</td>\n",
       "    </tr>\n",
       "    <tr>\n",
       "      <th>...</th>\n",
       "      <td>...</td>\n",
       "      <td>...</td>\n",
       "      <td>...</td>\n",
       "      <td>...</td>\n",
       "      <td>...</td>\n",
       "      <td>...</td>\n",
       "      <td>...</td>\n",
       "      <td>...</td>\n",
       "      <td>...</td>\n",
       "      <td>...</td>\n",
       "    </tr>\n",
       "    <tr>\n",
       "      <th>378</th>\n",
       "      <td>WMSHIPYARD</td>\n",
       "      <td>13.8</td>\n",
       "      <td>14.3</td>\n",
       "      <td>13.6</td>\n",
       "      <td>13.8</td>\n",
       "      <td>13.5</td>\n",
       "      <td>0.3</td>\n",
       "      <td>1404</td>\n",
       "      <td>54.207</td>\n",
       "      <td>3873168</td>\n",
       "    </tr>\n",
       "    <tr>\n",
       "      <th>379</th>\n",
       "      <td>YPL</td>\n",
       "      <td>14.3</td>\n",
       "      <td>14.4</td>\n",
       "      <td>13.3</td>\n",
       "      <td>14.3</td>\n",
       "      <td>13.5</td>\n",
       "      <td>0.8</td>\n",
       "      <td>725</td>\n",
       "      <td>17.905</td>\n",
       "      <td>1262565</td>\n",
       "    </tr>\n",
       "    <tr>\n",
       "      <th>380</th>\n",
       "      <td>ZAHEENSPIN</td>\n",
       "      <td>9.1</td>\n",
       "      <td>9.3</td>\n",
       "      <td>9.1</td>\n",
       "      <td>9.1</td>\n",
       "      <td>9.1</td>\n",
       "      <td>0.0</td>\n",
       "      <td>149</td>\n",
       "      <td>4.428</td>\n",
       "      <td>482337</td>\n",
       "    </tr>\n",
       "    <tr>\n",
       "      <th>381</th>\n",
       "      <td>ZAHINTEX</td>\n",
       "      <td>8.0</td>\n",
       "      <td>8.1</td>\n",
       "      <td>7.9</td>\n",
       "      <td>8.0</td>\n",
       "      <td>7.9</td>\n",
       "      <td>0.1</td>\n",
       "      <td>108</td>\n",
       "      <td>1.635</td>\n",
       "      <td>204400</td>\n",
       "    </tr>\n",
       "    <tr>\n",
       "      <th>382</th>\n",
       "      <td>ZEALBANGLA</td>\n",
       "      <td>117.0</td>\n",
       "      <td>121.0</td>\n",
       "      <td>114.9</td>\n",
       "      <td>117.8</td>\n",
       "      <td>115.0</td>\n",
       "      <td>2.0</td>\n",
       "      <td>114</td>\n",
       "      <td>1.142</td>\n",
       "      <td>9822</td>\n",
       "    </tr>\n",
       "  </tbody>\n",
       "</table>\n",
       "<p>383 rows × 10 columns</p>\n",
       "</div>"
      ],
      "text/plain": [
       "    TRADING CODE   LTP*   HIGH    LOW  CLOSEP*   YCP*  CHANGE  TRADE  \\\n",
       "0      1JANATAMF    6.6    6.7    6.3      6.6    6.5     0.1    285   \n",
       "1     1STPRIMFMF   20.3   20.4   19.9     20.3   19.8     0.5    119   \n",
       "2       AAMRANET   45.5   46.2   45.3     45.5   45.7    -0.2    380   \n",
       "3      AAMRATECH   31.6   32.8   31.4     31.6   31.9    -0.3    679   \n",
       "4       ABB1STMF    5.7    5.8    5.7      5.7    5.7     0.0     63   \n",
       "..           ...    ...    ...    ...      ...    ...     ...    ...   \n",
       "378   WMSHIPYARD   13.8   14.3   13.6     13.8   13.5     0.3   1404   \n",
       "379          YPL   14.3   14.4   13.3     14.3   13.5     0.8    725   \n",
       "380   ZAHEENSPIN    9.1    9.3    9.1      9.1    9.1     0.0    149   \n",
       "381     ZAHINTEX    8.0    8.1    7.9      8.0    7.9     0.1    108   \n",
       "382   ZEALBANGLA  117.0  121.0  114.9    117.8  115.0     2.0    114   \n",
       "\n",
       "     VALUE (mn)   VOLUME  \n",
       "0        16.268  2498152  \n",
       "1         3.856   191222  \n",
       "2        10.228   223931  \n",
       "3        33.768  1053813  \n",
       "4         1.087   190444  \n",
       "..          ...      ...  \n",
       "378      54.207  3873168  \n",
       "379      17.905  1262565  \n",
       "380       4.428   482337  \n",
       "381       1.635   204400  \n",
       "382       1.142     9822  \n",
       "\n",
       "[383 rows x 10 columns]"
      ]
     },
     "execution_count": 25,
     "metadata": {},
     "output_type": "execute_result"
    }
   ],
   "source": [
    "df_stocks_data"
   ]
  },
  {
   "cell_type": "code",
   "execution_count": 26,
   "metadata": {},
   "outputs": [
    {
     "data": {
      "text/html": [
       "<div>\n",
       "<style scoped>\n",
       "    .dataframe tbody tr th:only-of-type {\n",
       "        vertical-align: middle;\n",
       "    }\n",
       "\n",
       "    .dataframe tbody tr th {\n",
       "        vertical-align: top;\n",
       "    }\n",
       "\n",
       "    .dataframe thead th {\n",
       "        text-align: right;\n",
       "    }\n",
       "</style>\n",
       "<table border=\"1\" class=\"dataframe\">\n",
       "  <thead>\n",
       "    <tr style=\"text-align: right;\">\n",
       "      <th></th>\n",
       "      <th>TRADING CODE</th>\n",
       "      <th>LTP*</th>\n",
       "      <th>HIGH</th>\n",
       "    </tr>\n",
       "  </thead>\n",
       "  <tbody>\n",
       "    <tr>\n",
       "      <th>0</th>\n",
       "      <td>1JANATAMF</td>\n",
       "      <td>6.6</td>\n",
       "      <td>6.7</td>\n",
       "    </tr>\n",
       "    <tr>\n",
       "      <th>1</th>\n",
       "      <td>1STPRIMFMF</td>\n",
       "      <td>20.3</td>\n",
       "      <td>20.4</td>\n",
       "    </tr>\n",
       "    <tr>\n",
       "      <th>2</th>\n",
       "      <td>AAMRANET</td>\n",
       "      <td>45.5</td>\n",
       "      <td>46.2</td>\n",
       "    </tr>\n",
       "    <tr>\n",
       "      <th>3</th>\n",
       "      <td>AAMRATECH</td>\n",
       "      <td>31.6</td>\n",
       "      <td>32.8</td>\n",
       "    </tr>\n",
       "    <tr>\n",
       "      <th>4</th>\n",
       "      <td>ABB1STMF</td>\n",
       "      <td>5.7</td>\n",
       "      <td>5.8</td>\n",
       "    </tr>\n",
       "  </tbody>\n",
       "</table>\n",
       "</div>"
      ],
      "text/plain": [
       "  TRADING CODE  LTP*  HIGH\n",
       "0    1JANATAMF   6.6   6.7\n",
       "1   1STPRIMFMF  20.3  20.4\n",
       "2     AAMRANET  45.5  46.2\n",
       "3    AAMRATECH  31.6  32.8\n",
       "4     ABB1STMF   5.7   5.8"
      ]
     },
     "execution_count": 26,
     "metadata": {},
     "output_type": "execute_result"
    }
   ],
   "source": [
    "df_stocks_data.loc[:, ['TRADING CODE','LTP*','HIGH']].head()"
   ]
  },
  {
   "cell_type": "code",
   "execution_count": 28,
   "metadata": {},
   "outputs": [],
   "source": []
  },
  {
   "cell_type": "code",
   "execution_count": 70,
   "metadata": {},
   "outputs": [],
   "source": [
    "disclosures = open('corporate_disclosures.csv', 'r')\n",
    "wrangle_disclosures = open('disclosures_wrangled.csv', 'w')\n",
    "listings = open(listings)\n",
    "\n",
    "with disclosures, disclosures_wrangled:\n",
    "    read_disclosure = csv.reader(disclosures)\n",
    "    write_disclosure = csv.writer(wrangle_disclosures)\n",
    "    write_listing = csv.writer(listings)\n",
    "    \n",
    "    for record in disclosures:\n",
    "        if '-' in record or 'n/a' in record:\n",
    "            continue\n",
    "        else:\n",
    "            t_code, trading_price, sector, market_category, dividend, quarterly_eps, annual_eps, NAVPS, audit_year = record\n",
    "        \n",
    "        write_listing.writerow([t_code])"
   ]
  },
  {
   "cell_type": "code",
   "execution_count": 71,
   "metadata": {},
   "outputs": [
    {
     "data": {
      "text/plain": [
       "279"
      ]
     },
     "execution_count": 71,
     "metadata": {},
     "output_type": "execute_result"
    }
   ],
   "source": [
    "counter"
   ]
  },
  {
   "cell_type": "code",
   "execution_count": 72,
   "metadata": {},
   "outputs": [],
   "source": [
    "a, b = [10, 12]"
   ]
  },
  {
   "cell_type": "code",
   "execution_count": 73,
   "metadata": {},
   "outputs": [
    {
     "data": {
      "text/plain": [
       "10"
      ]
     },
     "execution_count": 73,
     "metadata": {},
     "output_type": "execute_result"
    }
   ],
   "source": [
    "a"
   ]
  },
  {
   "cell_type": "code",
   "execution_count": 74,
   "metadata": {},
   "outputs": [
    {
     "data": {
      "text/plain": [
       "12"
      ]
     },
     "execution_count": 74,
     "metadata": {},
     "output_type": "execute_result"
    }
   ],
   "source": [
    "b"
   ]
  },
  {
   "cell_type": "code",
   "execution_count": 27,
   "metadata": {},
   "outputs": [
    {
     "data": {
      "text/plain": [
       "[<td width=\"4%\">1</td>,\n",
       " <td width=\"15%\">\n",
       " <a class=\"ab1\" href=\"displayCompany.php?name=1JANATAMF\">\n",
       " \t\t\t\t\t\t\t\t\t\t\t\t\t1JANATAMF\t\t\t\t\t\t\t\t\t\t\t\t</a>\n",
       " </td>,\n",
       " <td width=\"10%\">6.6</td>,\n",
       " <td width=\"10%\">6.7</td>,\n",
       " <td width=\"12%\">6.3</td>,\n",
       " <td width=\"11%\">6.6</td>,\n",
       " <td width=\"12%\">6.5</td>,\n",
       " <td style=\"color: green\" width=\"12%\">0.1</td>,\n",
       " <td width=\"11%\">285</td>,\n",
       " <td width=\"11%\">16.268</td>,\n",
       " <td width=\"11%\">2,498,152</td>]"
      ]
     },
     "execution_count": 27,
     "metadata": {},
     "output_type": "execute_result"
    }
   ],
   "source": [
    "stocks[1].find_all('td')"
   ]
  },
  {
   "cell_type": "code",
   "execution_count": 20,
   "metadata": {},
   "outputs": [
    {
     "data": {
      "text/plain": [
       "[<td width=\"4%\">1</td>,\n",
       " <td width=\"15%\">\n",
       " <a class=\"ab1\" href=\"displayCompany.php?name=1JANATAMF\">\n",
       " \t\t\t\t\t\t\t\t\t\t\t\t\t1JANATAMF\t\t\t\t\t\t\t\t\t\t\t\t</a>\n",
       " </td>,\n",
       " <td width=\"10%\">6.6</td>,\n",
       " <td width=\"10%\">6.7</td>,\n",
       " <td width=\"12%\">6.3</td>,\n",
       " <td width=\"11%\">6.6</td>,\n",
       " <td width=\"12%\">6.5</td>,\n",
       " <td style=\"color: green\" width=\"12%\">0.1</td>,\n",
       " <td width=\"11%\">285</td>,\n",
       " <td width=\"11%\">16.268</td>,\n",
       " <td width=\"11%\">2,498,152</td>]"
      ]
     },
     "execution_count": 20,
     "metadata": {},
     "output_type": "execute_result"
    }
   ],
   "source": [
    "stock_one"
   ]
  },
  {
   "cell_type": "code",
   "execution_count": null,
   "metadata": {},
   "outputs": [],
   "source": []
  }
 ],
 "metadata": {
  "kernelspec": {
   "display_name": "Python 3 (ipykernel)",
   "language": "python",
   "name": "python3"
  },
  "language_info": {
   "codemirror_mode": {
    "name": "ipython",
    "version": 3
   },
   "file_extension": ".py",
   "mimetype": "text/x-python",
   "name": "python",
   "nbconvert_exporter": "python",
   "pygments_lexer": "ipython3",
   "version": "3.7.11"
  }
 },
 "nbformat": 4,
 "nbformat_minor": 4
}
