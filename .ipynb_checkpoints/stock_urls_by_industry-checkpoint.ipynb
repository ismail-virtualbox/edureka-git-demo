{
 "cells": [
  {
   "cell_type": "code",
   "execution_count": 110,
   "metadata": {},
   "outputs": [],
   "source": [
    "from bs4 import BeautifulSoup"
   ]
  },
  {
   "cell_type": "code",
   "execution_count": 111,
   "metadata": {},
   "outputs": [],
   "source": [
    "import requests"
   ]
  },
  {
   "cell_type": "code",
   "execution_count": 112,
   "metadata": {},
   "outputs": [],
   "source": [
    "html_text_industries  = requests.get(\"https://www.dsebd.org/by_industrylisting.php\").text"
   ]
  },
  {
   "cell_type": "code",
   "execution_count": 113,
   "metadata": {},
   "outputs": [],
   "source": [
    "soup = BeautifulSoup(html_text_industries, 'lxml')"
   ]
  },
  {
   "cell_type": "code",
   "execution_count": 114,
   "metadata": {},
   "outputs": [
    {
     "data": {
      "text/plain": [
       "32"
      ]
     },
     "execution_count": 114,
     "metadata": {},
     "output_type": "execute_result"
    }
   ],
   "source": [
    "soup.__sizeof__()"
   ]
  },
  {
   "cell_type": "code",
   "execution_count": 115,
   "metadata": {},
   "outputs": [],
   "source": [
    "industries_table = soup.find('table', class_= 'table table-bordered background-white')"
   ]
  },
  {
   "cell_type": "code",
   "execution_count": 116,
   "metadata": {},
   "outputs": [],
   "source": [
    "industries = industries_table.find_all('tr')"
   ]
  },
  {
   "cell_type": "code",
   "execution_count": 117,
   "metadata": {},
   "outputs": [],
   "source": [
    "industry_url_dict = {}"
   ]
  },
  {
   "cell_type": "code",
   "execution_count": 121,
   "metadata": {},
   "outputs": [],
   "source": [
    "i = 0\n",
    "for industry in industries:\n",
    "    if 0 < i < 22:\n",
    "        industry_url_dict[f'{industry.a.text}'] = 'https://www.dsebd.org/' + industry.a['href']\n",
    "    i += 1"
   ]
  },
  {
   "cell_type": "code",
   "execution_count": 122,
   "metadata": {},
   "outputs": [],
   "source": [
    "industry_url_dict[f'{industries[1].a.text}'] = 'https://www.dsebd.org/' + industries[1].a['href']"
   ]
  },
  {
   "cell_type": "code",
   "execution_count": 123,
   "metadata": {},
   "outputs": [
    {
     "data": {
      "text/plain": [
       "{'Bank': 'https://www.dsebd.org/companylistbyindustry.php?industryno=11',\n",
       " 'Cement': 'https://www.dsebd.org/companylistbyindustry.php?industryno=21',\n",
       " 'Ceramics Sector': 'https://www.dsebd.org/companylistbyindustry.php?industryno=24',\n",
       " 'Corporate Bond': 'https://www.dsebd.org/companylistbyindustry.php?industryno=26',\n",
       " 'Debenture': 'https://www.dsebd.org/companylistbyindustry.php?industryno=91',\n",
       " 'Engineering': 'https://www.dsebd.org/companylistbyindustry.php?industryno=13',\n",
       " 'Financial Institutions': 'https://www.dsebd.org/companylistbyindustry.php?industryno=28',\n",
       " 'Food & Allied': 'https://www.dsebd.org/companylistbyindustry.php?industryno=14',\n",
       " 'Fuel & Power': 'https://www.dsebd.org/companylistbyindustry.php?industryno=15',\n",
       " 'Insurance': 'https://www.dsebd.org/companylistbyindustry.php?industryno=25',\n",
       " 'IT Sector': 'https://www.dsebd.org/companylistbyindustry.php?industryno=22',\n",
       " 'Jute': 'https://www.dsebd.org/companylistbyindustry.php?industryno=16',\n",
       " 'Miscellaneous': 'https://www.dsebd.org/companylistbyindustry.php?industryno=99',\n",
       " 'Mutual Funds': 'https://www.dsebd.org/companylistbyindustry.php?industryno=12',\n",
       " 'Paper & Printing': 'https://www.dsebd.org/companylistbyindustry.php?industryno=19',\n",
       " 'Pharmaceuticals & Chemicals': 'https://www.dsebd.org/companylistbyindustry.php?industryno=18',\n",
       " 'Services & Real Estate': 'https://www.dsebd.org/companylistbyindustry.php?industryno=20',\n",
       " 'Tannery Industries': 'https://www.dsebd.org/companylistbyindustry.php?industryno=23',\n",
       " 'Telecommunication': 'https://www.dsebd.org/companylistbyindustry.php?industryno=27',\n",
       " 'Textile': 'https://www.dsebd.org/companylistbyindustry.php?industryno=17',\n",
       " 'Travel & Leisure': 'https://www.dsebd.org/companylistbyindustry.php?industryno=29'}"
      ]
     },
     "execution_count": 123,
     "metadata": {},
     "output_type": "execute_result"
    }
   ],
   "source": [
    "industry_url_dict"
   ]
  },
  {
   "cell_type": "code",
   "execution_count": 127,
   "metadata": {},
   "outputs": [
    {
     "data": {
      "text/plain": [
       "'https://www.dsebd.org/companylistbyindustry.php?industryno=11'"
      ]
     },
     "execution_count": 127,
     "metadata": {},
     "output_type": "execute_result"
    }
   ],
   "source": [
    "industry_url_dict['Bank']"
   ]
  },
  {
   "cell_type": "code",
   "execution_count": null,
   "metadata": {},
   "outputs": [],
   "source": [
    "industry"
   ]
  },
  {
   "cell_type": "code",
   "execution_count": 87,
   "metadata": {},
   "outputs": [
    {
     "data": {
      "text/plain": [
       "'companylistbyindustry.php?industryno=11'"
      ]
     },
     "execution_count": 87,
     "metadata": {},
     "output_type": "execute_result"
    }
   ],
   "source": [
    "industries[1].a['href']"
   ]
  },
  {
   "cell_type": "code",
   "execution_count": 95,
   "metadata": {},
   "outputs": [],
   "source": [
    "industry_name = industries[1].a.text"
   ]
  },
  {
   "cell_type": "code",
   "execution_count": 96,
   "metadata": {},
   "outputs": [
    {
     "data": {
      "text/plain": [
       "'Bank'"
      ]
     },
     "execution_count": 96,
     "metadata": {},
     "output_type": "execute_result"
    }
   ],
   "source": [
    "industry_name"
   ]
  },
  {
   "cell_type": "code",
   "execution_count": 64,
   "metadata": {},
   "outputs": [
    {
     "data": {
      "text/plain": [
       "'https://www.dsebd.org/companylistbyindustry.php?industryno=11'"
      ]
     },
     "execution_count": 64,
     "metadata": {},
     "output_type": "execute_result"
    }
   ],
   "source": [
    "'https://www.dsebd.org/' + industries[1].a['href']"
   ]
  },
  {
   "cell_type": "code",
   "execution_count": null,
   "metadata": {},
   "outputs": [],
   "source": []
  }
 ],
 "metadata": {
  "kernelspec": {
   "display_name": "Python 3",
   "language": "python",
   "name": "python3"
  },
  "language_info": {
   "codemirror_mode": {
    "name": "ipython",
    "version": 3
   },
   "file_extension": ".py",
   "mimetype": "text/x-python",
   "name": "python",
   "nbconvert_exporter": "python",
   "pygments_lexer": "ipython3",
   "version": "3.7.6"
  }
 },
 "nbformat": 4,
 "nbformat_minor": 4
}
